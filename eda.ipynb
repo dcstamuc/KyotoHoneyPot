{
 "cells": [
  {
   "cell_type": "markdown",
   "metadata": {},
   "source": [
    "# Read Data Sample"
   ]
  },
  {
   "cell_type": "code",
   "execution_count": 1,
   "metadata": {
    "ExecuteTime": {
     "end_time": "2017-07-23T18:36:45.685950Z",
     "start_time": "2017-07-23T18:36:45.281868Z"
    },
    "collapsed": true
   },
   "outputs": [],
   "source": [
    "import pandas as pd\n",
    "import numpy as np\n",
    "pd.set_option(\"display.max_rows\",15)\n",
    "%matplotlib inline"
   ]
  },
  {
   "cell_type": "code",
   "execution_count": 2,
   "metadata": {
    "ExecuteTime": {
     "end_time": "2017-07-19T14:02:44.664994Z",
     "start_time": "2017-07-19T14:02:42.915672Z"
    },
    "collapsed": true
   },
   "outputs": [],
   "source": [
    "special_variables = ['ids_detection', 'malware_detection', 'ashula_detection']\n",
    "\n",
    "class dataset:\n",
    "    col_names = ['duration', 'service', 'source_bytes', 'destination_bytes',\n",
    "                 'count', 'same_srv_rate', 'serror_srv_rate', 'srv_serror_rate',\n",
    "                 'dst_host_count', 'dst_host_srv_count', 'dst_host_same_src_port_rate',\n",
    "                 'dst_host_serror_rate', 'dst_host_serror_srv_rate', 'flag',\n",
    "                 'ids_detection', 'malware_detection', 'ashula_detection', 'label',\n",
    "                 'source_ip_address', 'source_port_number', 'destination_ip_address',\n",
    "                 'destination_port_number', 'start_time', 'session'\n",
    "                ]\n",
    "\n",
    "\n",
    "    kdd_train = pd.read_csv(\"dataset/Kyoto2016/2015/12/20151201.txt\",names = col_names, sep='\\t')\n",
    "    kdd_label = kdd_train.label.copy()\n",
    "    kdd_train = kdd_train.drop(['start_time', 'source_port_number', 'source_ip_address', 'destination_port_number', 'destination_ip_address', 'label'], axis = 1)\n",
    "    #kdd_train.start_time = pd.to_datetime(dataset.kdd_train.start_time, format=\"%H:%M:%S\").dt.total_seconds()\n",
    "    attack_types = {1:'Normal', -1:'Attack', -2:'Attack'}\n",
    "    kdd_label = kdd_label.map(lambda x: {1:'Normal', -1:'Attack', -2:'Attack'}[x])\n",
    "    kdd_train.loc[:,special_variables] = kdd_train.loc[:,special_variables].copy().applymap(lambda x: \n",
    "                                                                                                0 if x == '0' \n",
    "                                                                                                or x == 0 else 1)\n",
    "    "
   ]
  },
  {
   "cell_type": "code",
   "execution_count": 3,
   "metadata": {
    "ExecuteTime": {
     "end_time": "2017-07-19T14:02:44.723009Z",
     "start_time": "2017-07-19T14:02:44.666517Z"
    }
   },
   "outputs": [
    {
     "data": {
      "text/html": [
       "<div>\n",
       "<style>\n",
       "    .dataframe thead tr:only-child th {\n",
       "        text-align: right;\n",
       "    }\n",
       "\n",
       "    .dataframe thead th {\n",
       "        text-align: left;\n",
       "    }\n",
       "\n",
       "    .dataframe tbody tr th {\n",
       "        vertical-align: top;\n",
       "    }\n",
       "</style>\n",
       "<table border=\"1\" class=\"dataframe\">\n",
       "  <thead>\n",
       "    <tr style=\"text-align: right;\">\n",
       "      <th></th>\n",
       "      <th>duration</th>\n",
       "      <th>service</th>\n",
       "      <th>source_bytes</th>\n",
       "      <th>destination_bytes</th>\n",
       "      <th>count</th>\n",
       "      <th>same_srv_rate</th>\n",
       "      <th>serror_srv_rate</th>\n",
       "      <th>srv_serror_rate</th>\n",
       "      <th>dst_host_count</th>\n",
       "      <th>dst_host_srv_count</th>\n",
       "      <th>dst_host_same_src_port_rate</th>\n",
       "      <th>dst_host_serror_rate</th>\n",
       "      <th>dst_host_serror_srv_rate</th>\n",
       "      <th>flag</th>\n",
       "      <th>ids_detection</th>\n",
       "      <th>malware_detection</th>\n",
       "      <th>ashula_detection</th>\n",
       "      <th>session</th>\n",
       "    </tr>\n",
       "  </thead>\n",
       "  <tbody>\n",
       "    <tr>\n",
       "      <th>0</th>\n",
       "      <td>0.000000</td>\n",
       "      <td>other</td>\n",
       "      <td>0</td>\n",
       "      <td>0</td>\n",
       "      <td>0</td>\n",
       "      <td>0.0</td>\n",
       "      <td>0.0</td>\n",
       "      <td>0.00</td>\n",
       "      <td>0</td>\n",
       "      <td>0</td>\n",
       "      <td>0.0</td>\n",
       "      <td>0.00</td>\n",
       "      <td>0.00</td>\n",
       "      <td>S0</td>\n",
       "      <td>0</td>\n",
       "      <td>0</td>\n",
       "      <td>0</td>\n",
       "      <td>tcp</td>\n",
       "    </tr>\n",
       "    <tr>\n",
       "      <th>1</th>\n",
       "      <td>2.954396</td>\n",
       "      <td>other</td>\n",
       "      <td>0</td>\n",
       "      <td>0</td>\n",
       "      <td>0</td>\n",
       "      <td>0.0</td>\n",
       "      <td>0.0</td>\n",
       "      <td>0.00</td>\n",
       "      <td>0</td>\n",
       "      <td>0</td>\n",
       "      <td>0.0</td>\n",
       "      <td>0.00</td>\n",
       "      <td>0.00</td>\n",
       "      <td>S0</td>\n",
       "      <td>0</td>\n",
       "      <td>0</td>\n",
       "      <td>0</td>\n",
       "      <td>tcp</td>\n",
       "    </tr>\n",
       "    <tr>\n",
       "      <th>2</th>\n",
       "      <td>0.000000</td>\n",
       "      <td>other</td>\n",
       "      <td>0</td>\n",
       "      <td>0</td>\n",
       "      <td>0</td>\n",
       "      <td>0.0</td>\n",
       "      <td>0.0</td>\n",
       "      <td>0.00</td>\n",
       "      <td>0</td>\n",
       "      <td>0</td>\n",
       "      <td>0.0</td>\n",
       "      <td>0.00</td>\n",
       "      <td>0.00</td>\n",
       "      <td>S0</td>\n",
       "      <td>0</td>\n",
       "      <td>0</td>\n",
       "      <td>0</td>\n",
       "      <td>tcp</td>\n",
       "    </tr>\n",
       "    <tr>\n",
       "      <th>3</th>\n",
       "      <td>2.890600</td>\n",
       "      <td>other</td>\n",
       "      <td>0</td>\n",
       "      <td>0</td>\n",
       "      <td>0</td>\n",
       "      <td>0.0</td>\n",
       "      <td>0.0</td>\n",
       "      <td>0.00</td>\n",
       "      <td>0</td>\n",
       "      <td>0</td>\n",
       "      <td>0.0</td>\n",
       "      <td>0.00</td>\n",
       "      <td>0.00</td>\n",
       "      <td>S0</td>\n",
       "      <td>0</td>\n",
       "      <td>0</td>\n",
       "      <td>0</td>\n",
       "      <td>tcp</td>\n",
       "    </tr>\n",
       "    <tr>\n",
       "      <th>4</th>\n",
       "      <td>2.975500</td>\n",
       "      <td>other</td>\n",
       "      <td>0</td>\n",
       "      <td>0</td>\n",
       "      <td>0</td>\n",
       "      <td>0.0</td>\n",
       "      <td>0.0</td>\n",
       "      <td>0.00</td>\n",
       "      <td>0</td>\n",
       "      <td>0</td>\n",
       "      <td>0.0</td>\n",
       "      <td>0.00</td>\n",
       "      <td>0.00</td>\n",
       "      <td>S0</td>\n",
       "      <td>0</td>\n",
       "      <td>0</td>\n",
       "      <td>0</td>\n",
       "      <td>tcp</td>\n",
       "    </tr>\n",
       "    <tr>\n",
       "      <th>5</th>\n",
       "      <td>2.991582</td>\n",
       "      <td>other</td>\n",
       "      <td>0</td>\n",
       "      <td>0</td>\n",
       "      <td>0</td>\n",
       "      <td>0.0</td>\n",
       "      <td>0.0</td>\n",
       "      <td>0.00</td>\n",
       "      <td>0</td>\n",
       "      <td>0</td>\n",
       "      <td>0.0</td>\n",
       "      <td>0.00</td>\n",
       "      <td>0.00</td>\n",
       "      <td>S0</td>\n",
       "      <td>0</td>\n",
       "      <td>0</td>\n",
       "      <td>0</td>\n",
       "      <td>tcp</td>\n",
       "    </tr>\n",
       "    <tr>\n",
       "      <th>6</th>\n",
       "      <td>0.000000</td>\n",
       "      <td>other</td>\n",
       "      <td>0</td>\n",
       "      <td>0</td>\n",
       "      <td>0</td>\n",
       "      <td>0.0</td>\n",
       "      <td>0.0</td>\n",
       "      <td>0.00</td>\n",
       "      <td>0</td>\n",
       "      <td>0</td>\n",
       "      <td>0.0</td>\n",
       "      <td>0.00</td>\n",
       "      <td>0.00</td>\n",
       "      <td>S0</td>\n",
       "      <td>0</td>\n",
       "      <td>0</td>\n",
       "      <td>0</td>\n",
       "      <td>tcp</td>\n",
       "    </tr>\n",
       "    <tr>\n",
       "      <th>...</th>\n",
       "      <td>...</td>\n",
       "      <td>...</td>\n",
       "      <td>...</td>\n",
       "      <td>...</td>\n",
       "      <td>...</td>\n",
       "      <td>...</td>\n",
       "      <td>...</td>\n",
       "      <td>...</td>\n",
       "      <td>...</td>\n",
       "      <td>...</td>\n",
       "      <td>...</td>\n",
       "      <td>...</td>\n",
       "      <td>...</td>\n",
       "      <td>...</td>\n",
       "      <td>...</td>\n",
       "      <td>...</td>\n",
       "      <td>...</td>\n",
       "      <td>...</td>\n",
       "    </tr>\n",
       "    <tr>\n",
       "      <th>216890</th>\n",
       "      <td>3.000288</td>\n",
       "      <td>other</td>\n",
       "      <td>0</td>\n",
       "      <td>0</td>\n",
       "      <td>0</td>\n",
       "      <td>0.0</td>\n",
       "      <td>0.0</td>\n",
       "      <td>0.50</td>\n",
       "      <td>59</td>\n",
       "      <td>63</td>\n",
       "      <td>0.0</td>\n",
       "      <td>0.92</td>\n",
       "      <td>0.86</td>\n",
       "      <td>S0</td>\n",
       "      <td>0</td>\n",
       "      <td>0</td>\n",
       "      <td>0</td>\n",
       "      <td>tcp</td>\n",
       "    </tr>\n",
       "    <tr>\n",
       "      <th>216891</th>\n",
       "      <td>0.000000</td>\n",
       "      <td>other</td>\n",
       "      <td>0</td>\n",
       "      <td>0</td>\n",
       "      <td>0</td>\n",
       "      <td>0.0</td>\n",
       "      <td>0.0</td>\n",
       "      <td>0.67</td>\n",
       "      <td>1</td>\n",
       "      <td>2</td>\n",
       "      <td>1.0</td>\n",
       "      <td>1.00</td>\n",
       "      <td>1.00</td>\n",
       "      <td>S0</td>\n",
       "      <td>0</td>\n",
       "      <td>0</td>\n",
       "      <td>0</td>\n",
       "      <td>tcp</td>\n",
       "    </tr>\n",
       "    <tr>\n",
       "      <th>216892</th>\n",
       "      <td>0.000000</td>\n",
       "      <td>other</td>\n",
       "      <td>0</td>\n",
       "      <td>0</td>\n",
       "      <td>0</td>\n",
       "      <td>0.0</td>\n",
       "      <td>0.0</td>\n",
       "      <td>1.00</td>\n",
       "      <td>2</td>\n",
       "      <td>41</td>\n",
       "      <td>1.0</td>\n",
       "      <td>1.00</td>\n",
       "      <td>1.00</td>\n",
       "      <td>S0</td>\n",
       "      <td>0</td>\n",
       "      <td>0</td>\n",
       "      <td>0</td>\n",
       "      <td>tcp</td>\n",
       "    </tr>\n",
       "    <tr>\n",
       "      <th>216893</th>\n",
       "      <td>0.000000</td>\n",
       "      <td>other</td>\n",
       "      <td>0</td>\n",
       "      <td>0</td>\n",
       "      <td>0</td>\n",
       "      <td>0.0</td>\n",
       "      <td>0.0</td>\n",
       "      <td>1.00</td>\n",
       "      <td>1</td>\n",
       "      <td>1</td>\n",
       "      <td>1.0</td>\n",
       "      <td>0.00</td>\n",
       "      <td>0.00</td>\n",
       "      <td>OTH</td>\n",
       "      <td>1</td>\n",
       "      <td>0</td>\n",
       "      <td>0</td>\n",
       "      <td>icmp</td>\n",
       "    </tr>\n",
       "    <tr>\n",
       "      <th>216894</th>\n",
       "      <td>0.000000</td>\n",
       "      <td>other</td>\n",
       "      <td>0</td>\n",
       "      <td>0</td>\n",
       "      <td>0</td>\n",
       "      <td>0.0</td>\n",
       "      <td>0.0</td>\n",
       "      <td>0.67</td>\n",
       "      <td>0</td>\n",
       "      <td>0</td>\n",
       "      <td>0.0</td>\n",
       "      <td>0.00</td>\n",
       "      <td>0.00</td>\n",
       "      <td>S0</td>\n",
       "      <td>0</td>\n",
       "      <td>0</td>\n",
       "      <td>0</td>\n",
       "      <td>udp</td>\n",
       "    </tr>\n",
       "    <tr>\n",
       "      <th>216895</th>\n",
       "      <td>0.000000</td>\n",
       "      <td>other</td>\n",
       "      <td>0</td>\n",
       "      <td>0</td>\n",
       "      <td>1</td>\n",
       "      <td>1.0</td>\n",
       "      <td>1.0</td>\n",
       "      <td>0.67</td>\n",
       "      <td>1</td>\n",
       "      <td>41</td>\n",
       "      <td>1.0</td>\n",
       "      <td>1.00</td>\n",
       "      <td>1.00</td>\n",
       "      <td>S0</td>\n",
       "      <td>0</td>\n",
       "      <td>0</td>\n",
       "      <td>0</td>\n",
       "      <td>tcp</td>\n",
       "    </tr>\n",
       "    <tr>\n",
       "      <th>216896</th>\n",
       "      <td>0.000000</td>\n",
       "      <td>other</td>\n",
       "      <td>0</td>\n",
       "      <td>0</td>\n",
       "      <td>0</td>\n",
       "      <td>0.0</td>\n",
       "      <td>0.0</td>\n",
       "      <td>0.75</td>\n",
       "      <td>59</td>\n",
       "      <td>63</td>\n",
       "      <td>0.0</td>\n",
       "      <td>0.92</td>\n",
       "      <td>0.86</td>\n",
       "      <td>S0</td>\n",
       "      <td>0</td>\n",
       "      <td>0</td>\n",
       "      <td>0</td>\n",
       "      <td>tcp</td>\n",
       "    </tr>\n",
       "  </tbody>\n",
       "</table>\n",
       "<p>216897 rows × 18 columns</p>\n",
       "</div>"
      ],
      "text/plain": [
       "        duration service  source_bytes  destination_bytes  count  \\\n",
       "0       0.000000   other             0                  0      0   \n",
       "1       2.954396   other             0                  0      0   \n",
       "2       0.000000   other             0                  0      0   \n",
       "3       2.890600   other             0                  0      0   \n",
       "4       2.975500   other             0                  0      0   \n",
       "5       2.991582   other             0                  0      0   \n",
       "6       0.000000   other             0                  0      0   \n",
       "...          ...     ...           ...                ...    ...   \n",
       "216890  3.000288   other             0                  0      0   \n",
       "216891  0.000000   other             0                  0      0   \n",
       "216892  0.000000   other             0                  0      0   \n",
       "216893  0.000000   other             0                  0      0   \n",
       "216894  0.000000   other             0                  0      0   \n",
       "216895  0.000000   other             0                  0      1   \n",
       "216896  0.000000   other             0                  0      0   \n",
       "\n",
       "        same_srv_rate  serror_srv_rate  srv_serror_rate  dst_host_count  \\\n",
       "0                 0.0              0.0             0.00               0   \n",
       "1                 0.0              0.0             0.00               0   \n",
       "2                 0.0              0.0             0.00               0   \n",
       "3                 0.0              0.0             0.00               0   \n",
       "4                 0.0              0.0             0.00               0   \n",
       "5                 0.0              0.0             0.00               0   \n",
       "6                 0.0              0.0             0.00               0   \n",
       "...               ...              ...              ...             ...   \n",
       "216890            0.0              0.0             0.50              59   \n",
       "216891            0.0              0.0             0.67               1   \n",
       "216892            0.0              0.0             1.00               2   \n",
       "216893            0.0              0.0             1.00               1   \n",
       "216894            0.0              0.0             0.67               0   \n",
       "216895            1.0              1.0             0.67               1   \n",
       "216896            0.0              0.0             0.75              59   \n",
       "\n",
       "        dst_host_srv_count  dst_host_same_src_port_rate  dst_host_serror_rate  \\\n",
       "0                        0                          0.0                  0.00   \n",
       "1                        0                          0.0                  0.00   \n",
       "2                        0                          0.0                  0.00   \n",
       "3                        0                          0.0                  0.00   \n",
       "4                        0                          0.0                  0.00   \n",
       "5                        0                          0.0                  0.00   \n",
       "6                        0                          0.0                  0.00   \n",
       "...                    ...                          ...                   ...   \n",
       "216890                  63                          0.0                  0.92   \n",
       "216891                   2                          1.0                  1.00   \n",
       "216892                  41                          1.0                  1.00   \n",
       "216893                   1                          1.0                  0.00   \n",
       "216894                   0                          0.0                  0.00   \n",
       "216895                  41                          1.0                  1.00   \n",
       "216896                  63                          0.0                  0.92   \n",
       "\n",
       "        dst_host_serror_srv_rate flag  ids_detection  malware_detection  \\\n",
       "0                           0.00   S0              0                  0   \n",
       "1                           0.00   S0              0                  0   \n",
       "2                           0.00   S0              0                  0   \n",
       "3                           0.00   S0              0                  0   \n",
       "4                           0.00   S0              0                  0   \n",
       "5                           0.00   S0              0                  0   \n",
       "6                           0.00   S0              0                  0   \n",
       "...                          ...  ...            ...                ...   \n",
       "216890                      0.86   S0              0                  0   \n",
       "216891                      1.00   S0              0                  0   \n",
       "216892                      1.00   S0              0                  0   \n",
       "216893                      0.00  OTH              1                  0   \n",
       "216894                      0.00   S0              0                  0   \n",
       "216895                      1.00   S0              0                  0   \n",
       "216896                      0.86   S0              0                  0   \n",
       "\n",
       "        ashula_detection session  \n",
       "0                      0     tcp  \n",
       "1                      0     tcp  \n",
       "2                      0     tcp  \n",
       "3                      0     tcp  \n",
       "4                      0     tcp  \n",
       "5                      0     tcp  \n",
       "6                      0     tcp  \n",
       "...                  ...     ...  \n",
       "216890                 0     tcp  \n",
       "216891                 0     tcp  \n",
       "216892                 0     tcp  \n",
       "216893                 0    icmp  \n",
       "216894                 0     udp  \n",
       "216895                 0     tcp  \n",
       "216896                 0     tcp  \n",
       "\n",
       "[216897 rows x 18 columns]"
      ]
     },
     "execution_count": 3,
     "metadata": {},
     "output_type": "execute_result"
    }
   ],
   "source": [
    "dataset.kdd_train"
   ]
  },
  {
   "cell_type": "code",
   "execution_count": 4,
   "metadata": {
    "ExecuteTime": {
     "end_time": "2017-07-19T14:02:44.734596Z",
     "start_time": "2017-07-19T14:02:44.724758Z"
    }
   },
   "outputs": [
    {
     "data": {
      "text/plain": [
       "array(['Attack', 'Normal'], dtype=object)"
      ]
     },
     "execution_count": 4,
     "metadata": {},
     "output_type": "execute_result"
    }
   ],
   "source": [
    "dataset.kdd_label.unique()"
   ]
  },
  {
   "cell_type": "code",
   "execution_count": 5,
   "metadata": {
    "ExecuteTime": {
     "end_time": "2017-07-19T14:02:44.748677Z",
     "start_time": "2017-07-19T14:02:44.735982Z"
    }
   },
   "outputs": [
    {
     "data": {
      "text/plain": [
       "array([0, 1])"
      ]
     },
     "execution_count": 5,
     "metadata": {},
     "output_type": "execute_result"
    }
   ],
   "source": [
    "dataset.kdd_train.ashula_detection.unique()"
   ]
  },
  {
   "cell_type": "code",
   "execution_count": 6,
   "metadata": {
    "ExecuteTime": {
     "end_time": "2017-07-19T14:02:44.760606Z",
     "start_time": "2017-07-19T14:02:44.750160Z"
    }
   },
   "outputs": [
    {
     "data": {
      "text/plain": [
       "array([0, 1])"
      ]
     },
     "execution_count": 6,
     "metadata": {},
     "output_type": "execute_result"
    }
   ],
   "source": [
    "dataset.kdd_train.malware_detection.unique()"
   ]
  },
  {
   "cell_type": "code",
   "execution_count": 7,
   "metadata": {
    "ExecuteTime": {
     "end_time": "2017-07-19T14:02:44.766969Z",
     "start_time": "2017-07-19T14:02:44.762039Z"
    }
   },
   "outputs": [
    {
     "data": {
      "text/plain": [
       "array([0, 1])"
      ]
     },
     "execution_count": 7,
     "metadata": {},
     "output_type": "execute_result"
    }
   ],
   "source": [
    "dataset.kdd_train.ids_detection.unique()"
   ]
  },
  {
   "cell_type": "code",
   "execution_count": 8,
   "metadata": {
    "ExecuteTime": {
     "end_time": "2017-07-19T14:02:44.805113Z",
     "start_time": "2017-07-19T14:02:44.768484Z"
    }
   },
   "outputs": [
    {
     "data": {
      "text/html": [
       "<div>\n",
       "<style>\n",
       "    .dataframe thead tr:only-child th {\n",
       "        text-align: right;\n",
       "    }\n",
       "\n",
       "    .dataframe thead th {\n",
       "        text-align: left;\n",
       "    }\n",
       "\n",
       "    .dataframe tbody tr th {\n",
       "        vertical-align: top;\n",
       "    }\n",
       "</style>\n",
       "<table border=\"1\" class=\"dataframe\">\n",
       "  <thead>\n",
       "    <tr style=\"text-align: right;\">\n",
       "      <th></th>\n",
       "      <th>duration</th>\n",
       "      <th>service</th>\n",
       "      <th>source_bytes</th>\n",
       "      <th>destination_bytes</th>\n",
       "      <th>count</th>\n",
       "      <th>same_srv_rate</th>\n",
       "      <th>serror_srv_rate</th>\n",
       "      <th>srv_serror_rate</th>\n",
       "      <th>dst_host_count</th>\n",
       "      <th>dst_host_srv_count</th>\n",
       "      <th>dst_host_same_src_port_rate</th>\n",
       "      <th>dst_host_serror_rate</th>\n",
       "      <th>dst_host_serror_srv_rate</th>\n",
       "      <th>flag</th>\n",
       "      <th>ids_detection</th>\n",
       "      <th>malware_detection</th>\n",
       "      <th>ashula_detection</th>\n",
       "      <th>session</th>\n",
       "    </tr>\n",
       "  </thead>\n",
       "  <tbody>\n",
       "    <tr>\n",
       "      <th>0</th>\n",
       "      <td>0.000000</td>\n",
       "      <td>other</td>\n",
       "      <td>0</td>\n",
       "      <td>0</td>\n",
       "      <td>0</td>\n",
       "      <td>0.0</td>\n",
       "      <td>0.0</td>\n",
       "      <td>0.00</td>\n",
       "      <td>0</td>\n",
       "      <td>0</td>\n",
       "      <td>0.0</td>\n",
       "      <td>0.00</td>\n",
       "      <td>0.00</td>\n",
       "      <td>S0</td>\n",
       "      <td>0</td>\n",
       "      <td>0</td>\n",
       "      <td>0</td>\n",
       "      <td>tcp</td>\n",
       "    </tr>\n",
       "    <tr>\n",
       "      <th>1</th>\n",
       "      <td>2.954396</td>\n",
       "      <td>other</td>\n",
       "      <td>0</td>\n",
       "      <td>0</td>\n",
       "      <td>0</td>\n",
       "      <td>0.0</td>\n",
       "      <td>0.0</td>\n",
       "      <td>0.00</td>\n",
       "      <td>0</td>\n",
       "      <td>0</td>\n",
       "      <td>0.0</td>\n",
       "      <td>0.00</td>\n",
       "      <td>0.00</td>\n",
       "      <td>S0</td>\n",
       "      <td>0</td>\n",
       "      <td>0</td>\n",
       "      <td>0</td>\n",
       "      <td>tcp</td>\n",
       "    </tr>\n",
       "    <tr>\n",
       "      <th>2</th>\n",
       "      <td>0.000000</td>\n",
       "      <td>other</td>\n",
       "      <td>0</td>\n",
       "      <td>0</td>\n",
       "      <td>0</td>\n",
       "      <td>0.0</td>\n",
       "      <td>0.0</td>\n",
       "      <td>0.00</td>\n",
       "      <td>0</td>\n",
       "      <td>0</td>\n",
       "      <td>0.0</td>\n",
       "      <td>0.00</td>\n",
       "      <td>0.00</td>\n",
       "      <td>S0</td>\n",
       "      <td>0</td>\n",
       "      <td>0</td>\n",
       "      <td>0</td>\n",
       "      <td>tcp</td>\n",
       "    </tr>\n",
       "    <tr>\n",
       "      <th>3</th>\n",
       "      <td>2.890600</td>\n",
       "      <td>other</td>\n",
       "      <td>0</td>\n",
       "      <td>0</td>\n",
       "      <td>0</td>\n",
       "      <td>0.0</td>\n",
       "      <td>0.0</td>\n",
       "      <td>0.00</td>\n",
       "      <td>0</td>\n",
       "      <td>0</td>\n",
       "      <td>0.0</td>\n",
       "      <td>0.00</td>\n",
       "      <td>0.00</td>\n",
       "      <td>S0</td>\n",
       "      <td>0</td>\n",
       "      <td>0</td>\n",
       "      <td>0</td>\n",
       "      <td>tcp</td>\n",
       "    </tr>\n",
       "    <tr>\n",
       "      <th>4</th>\n",
       "      <td>2.975500</td>\n",
       "      <td>other</td>\n",
       "      <td>0</td>\n",
       "      <td>0</td>\n",
       "      <td>0</td>\n",
       "      <td>0.0</td>\n",
       "      <td>0.0</td>\n",
       "      <td>0.00</td>\n",
       "      <td>0</td>\n",
       "      <td>0</td>\n",
       "      <td>0.0</td>\n",
       "      <td>0.00</td>\n",
       "      <td>0.00</td>\n",
       "      <td>S0</td>\n",
       "      <td>0</td>\n",
       "      <td>0</td>\n",
       "      <td>0</td>\n",
       "      <td>tcp</td>\n",
       "    </tr>\n",
       "    <tr>\n",
       "      <th>5</th>\n",
       "      <td>2.991582</td>\n",
       "      <td>other</td>\n",
       "      <td>0</td>\n",
       "      <td>0</td>\n",
       "      <td>0</td>\n",
       "      <td>0.0</td>\n",
       "      <td>0.0</td>\n",
       "      <td>0.00</td>\n",
       "      <td>0</td>\n",
       "      <td>0</td>\n",
       "      <td>0.0</td>\n",
       "      <td>0.00</td>\n",
       "      <td>0.00</td>\n",
       "      <td>S0</td>\n",
       "      <td>0</td>\n",
       "      <td>0</td>\n",
       "      <td>0</td>\n",
       "      <td>tcp</td>\n",
       "    </tr>\n",
       "    <tr>\n",
       "      <th>6</th>\n",
       "      <td>0.000000</td>\n",
       "      <td>other</td>\n",
       "      <td>0</td>\n",
       "      <td>0</td>\n",
       "      <td>0</td>\n",
       "      <td>0.0</td>\n",
       "      <td>0.0</td>\n",
       "      <td>0.00</td>\n",
       "      <td>0</td>\n",
       "      <td>0</td>\n",
       "      <td>0.0</td>\n",
       "      <td>0.00</td>\n",
       "      <td>0.00</td>\n",
       "      <td>S0</td>\n",
       "      <td>0</td>\n",
       "      <td>0</td>\n",
       "      <td>0</td>\n",
       "      <td>tcp</td>\n",
       "    </tr>\n",
       "    <tr>\n",
       "      <th>...</th>\n",
       "      <td>...</td>\n",
       "      <td>...</td>\n",
       "      <td>...</td>\n",
       "      <td>...</td>\n",
       "      <td>...</td>\n",
       "      <td>...</td>\n",
       "      <td>...</td>\n",
       "      <td>...</td>\n",
       "      <td>...</td>\n",
       "      <td>...</td>\n",
       "      <td>...</td>\n",
       "      <td>...</td>\n",
       "      <td>...</td>\n",
       "      <td>...</td>\n",
       "      <td>...</td>\n",
       "      <td>...</td>\n",
       "      <td>...</td>\n",
       "      <td>...</td>\n",
       "    </tr>\n",
       "    <tr>\n",
       "      <th>216890</th>\n",
       "      <td>3.000288</td>\n",
       "      <td>other</td>\n",
       "      <td>0</td>\n",
       "      <td>0</td>\n",
       "      <td>0</td>\n",
       "      <td>0.0</td>\n",
       "      <td>0.0</td>\n",
       "      <td>0.50</td>\n",
       "      <td>59</td>\n",
       "      <td>63</td>\n",
       "      <td>0.0</td>\n",
       "      <td>0.92</td>\n",
       "      <td>0.86</td>\n",
       "      <td>S0</td>\n",
       "      <td>0</td>\n",
       "      <td>0</td>\n",
       "      <td>0</td>\n",
       "      <td>tcp</td>\n",
       "    </tr>\n",
       "    <tr>\n",
       "      <th>216891</th>\n",
       "      <td>0.000000</td>\n",
       "      <td>other</td>\n",
       "      <td>0</td>\n",
       "      <td>0</td>\n",
       "      <td>0</td>\n",
       "      <td>0.0</td>\n",
       "      <td>0.0</td>\n",
       "      <td>0.67</td>\n",
       "      <td>1</td>\n",
       "      <td>2</td>\n",
       "      <td>1.0</td>\n",
       "      <td>1.00</td>\n",
       "      <td>1.00</td>\n",
       "      <td>S0</td>\n",
       "      <td>0</td>\n",
       "      <td>0</td>\n",
       "      <td>0</td>\n",
       "      <td>tcp</td>\n",
       "    </tr>\n",
       "    <tr>\n",
       "      <th>216892</th>\n",
       "      <td>0.000000</td>\n",
       "      <td>other</td>\n",
       "      <td>0</td>\n",
       "      <td>0</td>\n",
       "      <td>0</td>\n",
       "      <td>0.0</td>\n",
       "      <td>0.0</td>\n",
       "      <td>1.00</td>\n",
       "      <td>2</td>\n",
       "      <td>41</td>\n",
       "      <td>1.0</td>\n",
       "      <td>1.00</td>\n",
       "      <td>1.00</td>\n",
       "      <td>S0</td>\n",
       "      <td>0</td>\n",
       "      <td>0</td>\n",
       "      <td>0</td>\n",
       "      <td>tcp</td>\n",
       "    </tr>\n",
       "    <tr>\n",
       "      <th>216893</th>\n",
       "      <td>0.000000</td>\n",
       "      <td>other</td>\n",
       "      <td>0</td>\n",
       "      <td>0</td>\n",
       "      <td>0</td>\n",
       "      <td>0.0</td>\n",
       "      <td>0.0</td>\n",
       "      <td>1.00</td>\n",
       "      <td>1</td>\n",
       "      <td>1</td>\n",
       "      <td>1.0</td>\n",
       "      <td>0.00</td>\n",
       "      <td>0.00</td>\n",
       "      <td>OTH</td>\n",
       "      <td>1</td>\n",
       "      <td>0</td>\n",
       "      <td>0</td>\n",
       "      <td>icmp</td>\n",
       "    </tr>\n",
       "    <tr>\n",
       "      <th>216894</th>\n",
       "      <td>0.000000</td>\n",
       "      <td>other</td>\n",
       "      <td>0</td>\n",
       "      <td>0</td>\n",
       "      <td>0</td>\n",
       "      <td>0.0</td>\n",
       "      <td>0.0</td>\n",
       "      <td>0.67</td>\n",
       "      <td>0</td>\n",
       "      <td>0</td>\n",
       "      <td>0.0</td>\n",
       "      <td>0.00</td>\n",
       "      <td>0.00</td>\n",
       "      <td>S0</td>\n",
       "      <td>0</td>\n",
       "      <td>0</td>\n",
       "      <td>0</td>\n",
       "      <td>udp</td>\n",
       "    </tr>\n",
       "    <tr>\n",
       "      <th>216895</th>\n",
       "      <td>0.000000</td>\n",
       "      <td>other</td>\n",
       "      <td>0</td>\n",
       "      <td>0</td>\n",
       "      <td>1</td>\n",
       "      <td>1.0</td>\n",
       "      <td>1.0</td>\n",
       "      <td>0.67</td>\n",
       "      <td>1</td>\n",
       "      <td>41</td>\n",
       "      <td>1.0</td>\n",
       "      <td>1.00</td>\n",
       "      <td>1.00</td>\n",
       "      <td>S0</td>\n",
       "      <td>0</td>\n",
       "      <td>0</td>\n",
       "      <td>0</td>\n",
       "      <td>tcp</td>\n",
       "    </tr>\n",
       "    <tr>\n",
       "      <th>216896</th>\n",
       "      <td>0.000000</td>\n",
       "      <td>other</td>\n",
       "      <td>0</td>\n",
       "      <td>0</td>\n",
       "      <td>0</td>\n",
       "      <td>0.0</td>\n",
       "      <td>0.0</td>\n",
       "      <td>0.75</td>\n",
       "      <td>59</td>\n",
       "      <td>63</td>\n",
       "      <td>0.0</td>\n",
       "      <td>0.92</td>\n",
       "      <td>0.86</td>\n",
       "      <td>S0</td>\n",
       "      <td>0</td>\n",
       "      <td>0</td>\n",
       "      <td>0</td>\n",
       "      <td>tcp</td>\n",
       "    </tr>\n",
       "  </tbody>\n",
       "</table>\n",
       "<p>216897 rows × 18 columns</p>\n",
       "</div>"
      ],
      "text/plain": [
       "        duration service  source_bytes  destination_bytes  count  \\\n",
       "0       0.000000   other             0                  0      0   \n",
       "1       2.954396   other             0                  0      0   \n",
       "2       0.000000   other             0                  0      0   \n",
       "3       2.890600   other             0                  0      0   \n",
       "4       2.975500   other             0                  0      0   \n",
       "5       2.991582   other             0                  0      0   \n",
       "6       0.000000   other             0                  0      0   \n",
       "...          ...     ...           ...                ...    ...   \n",
       "216890  3.000288   other             0                  0      0   \n",
       "216891  0.000000   other             0                  0      0   \n",
       "216892  0.000000   other             0                  0      0   \n",
       "216893  0.000000   other             0                  0      0   \n",
       "216894  0.000000   other             0                  0      0   \n",
       "216895  0.000000   other             0                  0      1   \n",
       "216896  0.000000   other             0                  0      0   \n",
       "\n",
       "        same_srv_rate  serror_srv_rate  srv_serror_rate  dst_host_count  \\\n",
       "0                 0.0              0.0             0.00               0   \n",
       "1                 0.0              0.0             0.00               0   \n",
       "2                 0.0              0.0             0.00               0   \n",
       "3                 0.0              0.0             0.00               0   \n",
       "4                 0.0              0.0             0.00               0   \n",
       "5                 0.0              0.0             0.00               0   \n",
       "6                 0.0              0.0             0.00               0   \n",
       "...               ...              ...              ...             ...   \n",
       "216890            0.0              0.0             0.50              59   \n",
       "216891            0.0              0.0             0.67               1   \n",
       "216892            0.0              0.0             1.00               2   \n",
       "216893            0.0              0.0             1.00               1   \n",
       "216894            0.0              0.0             0.67               0   \n",
       "216895            1.0              1.0             0.67               1   \n",
       "216896            0.0              0.0             0.75              59   \n",
       "\n",
       "        dst_host_srv_count  dst_host_same_src_port_rate  dst_host_serror_rate  \\\n",
       "0                        0                          0.0                  0.00   \n",
       "1                        0                          0.0                  0.00   \n",
       "2                        0                          0.0                  0.00   \n",
       "3                        0                          0.0                  0.00   \n",
       "4                        0                          0.0                  0.00   \n",
       "5                        0                          0.0                  0.00   \n",
       "6                        0                          0.0                  0.00   \n",
       "...                    ...                          ...                   ...   \n",
       "216890                  63                          0.0                  0.92   \n",
       "216891                   2                          1.0                  1.00   \n",
       "216892                  41                          1.0                  1.00   \n",
       "216893                   1                          1.0                  0.00   \n",
       "216894                   0                          0.0                  0.00   \n",
       "216895                  41                          1.0                  1.00   \n",
       "216896                  63                          0.0                  0.92   \n",
       "\n",
       "        dst_host_serror_srv_rate flag  ids_detection  malware_detection  \\\n",
       "0                           0.00   S0              0                  0   \n",
       "1                           0.00   S0              0                  0   \n",
       "2                           0.00   S0              0                  0   \n",
       "3                           0.00   S0              0                  0   \n",
       "4                           0.00   S0              0                  0   \n",
       "5                           0.00   S0              0                  0   \n",
       "6                           0.00   S0              0                  0   \n",
       "...                          ...  ...            ...                ...   \n",
       "216890                      0.86   S0              0                  0   \n",
       "216891                      1.00   S0              0                  0   \n",
       "216892                      1.00   S0              0                  0   \n",
       "216893                      0.00  OTH              1                  0   \n",
       "216894                      0.00   S0              0                  0   \n",
       "216895                      1.00   S0              0                  0   \n",
       "216896                      0.86   S0              0                  0   \n",
       "\n",
       "        ashula_detection session  \n",
       "0                      0     tcp  \n",
       "1                      0     tcp  \n",
       "2                      0     tcp  \n",
       "3                      0     tcp  \n",
       "4                      0     tcp  \n",
       "5                      0     tcp  \n",
       "6                      0     tcp  \n",
       "...                  ...     ...  \n",
       "216890                 0     tcp  \n",
       "216891                 0     tcp  \n",
       "216892                 0     tcp  \n",
       "216893                 0    icmp  \n",
       "216894                 0     udp  \n",
       "216895                 0     tcp  \n",
       "216896                 0     tcp  \n",
       "\n",
       "[216897 rows x 18 columns]"
      ]
     },
     "execution_count": 8,
     "metadata": {},
     "output_type": "execute_result"
    }
   ],
   "source": [
    "dataset.kdd_train"
   ]
  },
  {
   "cell_type": "code",
   "execution_count": 9,
   "metadata": {
    "ExecuteTime": {
     "end_time": "2017-07-19T14:02:44.914973Z",
     "start_time": "2017-07-19T14:02:44.806596Z"
    }
   },
   "outputs": [
    {
     "name": "stdout",
     "output_type": "stream",
     "text": [
      "<class 'pandas.core.frame.DataFrame'>\n",
      "RangeIndex: 216897 entries, 0 to 216896\n",
      "Data columns (total 18 columns):\n",
      "duration                       216897 non-null float64\n",
      "service                        216897 non-null object\n",
      "source_bytes                   216897 non-null int64\n",
      "destination_bytes              216897 non-null int64\n",
      "count                          216897 non-null int64\n",
      "same_srv_rate                  216897 non-null float64\n",
      "serror_srv_rate                216897 non-null float64\n",
      "srv_serror_rate                216897 non-null float64\n",
      "dst_host_count                 216897 non-null int64\n",
      "dst_host_srv_count             216897 non-null int64\n",
      "dst_host_same_src_port_rate    216897 non-null float64\n",
      "dst_host_serror_rate           216897 non-null float64\n",
      "dst_host_serror_srv_rate       216897 non-null float64\n",
      "flag                           216897 non-null object\n",
      "ids_detection                  216897 non-null int64\n",
      "malware_detection              216897 non-null int64\n",
      "ashula_detection               216897 non-null int64\n",
      "session                        216897 non-null object\n",
      "dtypes: float64(7), int64(8), object(3)\n",
      "memory usage: 29.8+ MB\n"
     ]
    }
   ],
   "source": [
    "dataset.kdd_train.info(memory_usage = True)"
   ]
  },
  {
   "cell_type": "code",
   "execution_count": 10,
   "metadata": {
    "ExecuteTime": {
     "end_time": "2017-07-19T14:02:45.104630Z",
     "start_time": "2017-07-19T14:02:44.916600Z"
    }
   },
   "outputs": [
    {
     "data": {
      "text/html": [
       "<div>\n",
       "<style>\n",
       "    .dataframe thead tr:only-child th {\n",
       "        text-align: right;\n",
       "    }\n",
       "\n",
       "    .dataframe thead th {\n",
       "        text-align: left;\n",
       "    }\n",
       "\n",
       "    .dataframe tbody tr th {\n",
       "        vertical-align: top;\n",
       "    }\n",
       "</style>\n",
       "<table border=\"1\" class=\"dataframe\">\n",
       "  <thead>\n",
       "    <tr style=\"text-align: right;\">\n",
       "      <th></th>\n",
       "      <th>duration</th>\n",
       "      <th>source_bytes</th>\n",
       "      <th>destination_bytes</th>\n",
       "      <th>count</th>\n",
       "      <th>same_srv_rate</th>\n",
       "      <th>serror_srv_rate</th>\n",
       "      <th>srv_serror_rate</th>\n",
       "      <th>dst_host_count</th>\n",
       "      <th>dst_host_srv_count</th>\n",
       "      <th>dst_host_same_src_port_rate</th>\n",
       "      <th>dst_host_serror_rate</th>\n",
       "      <th>dst_host_serror_srv_rate</th>\n",
       "      <th>ids_detection</th>\n",
       "      <th>malware_detection</th>\n",
       "      <th>ashula_detection</th>\n",
       "    </tr>\n",
       "  </thead>\n",
       "  <tbody>\n",
       "    <tr>\n",
       "      <th>count</th>\n",
       "      <td>216897.000000</td>\n",
       "      <td>2.168970e+05</td>\n",
       "      <td>2.168970e+05</td>\n",
       "      <td>216897.000000</td>\n",
       "      <td>216897.000000</td>\n",
       "      <td>216897.000000</td>\n",
       "      <td>216897.000000</td>\n",
       "      <td>216897.000000</td>\n",
       "      <td>216897.000000</td>\n",
       "      <td>216897.000000</td>\n",
       "      <td>216897.000000</td>\n",
       "      <td>216897.000000</td>\n",
       "      <td>216897.000000</td>\n",
       "      <td>216897.000000</td>\n",
       "      <td>216897.000000</td>\n",
       "    </tr>\n",
       "    <tr>\n",
       "      <th>mean</th>\n",
       "      <td>1.994840</td>\n",
       "      <td>2.320066e+03</td>\n",
       "      <td>2.448276e+02</td>\n",
       "      <td>0.665127</td>\n",
       "      <td>0.151161</td>\n",
       "      <td>0.068980</td>\n",
       "      <td>0.703322</td>\n",
       "      <td>9.190888</td>\n",
       "      <td>14.184355</td>\n",
       "      <td>0.113834</td>\n",
       "      <td>0.191490</td>\n",
       "      <td>0.260107</td>\n",
       "      <td>0.038230</td>\n",
       "      <td>0.000738</td>\n",
       "      <td>0.002610</td>\n",
       "    </tr>\n",
       "    <tr>\n",
       "      <th>std</th>\n",
       "      <td>17.584003</td>\n",
       "      <td>9.666528e+05</td>\n",
       "      <td>7.809690e+03</td>\n",
       "      <td>4.137029</td>\n",
       "      <td>0.357461</td>\n",
       "      <td>0.248934</td>\n",
       "      <td>0.355445</td>\n",
       "      <td>22.839879</td>\n",
       "      <td>25.269047</td>\n",
       "      <td>0.312390</td>\n",
       "      <td>0.384233</td>\n",
       "      <td>0.424072</td>\n",
       "      <td>0.191752</td>\n",
       "      <td>0.027150</td>\n",
       "      <td>0.051017</td>\n",
       "    </tr>\n",
       "    <tr>\n",
       "      <th>min</th>\n",
       "      <td>0.000000</td>\n",
       "      <td>0.000000e+00</td>\n",
       "      <td>0.000000e+00</td>\n",
       "      <td>0.000000</td>\n",
       "      <td>0.000000</td>\n",
       "      <td>0.000000</td>\n",
       "      <td>0.000000</td>\n",
       "      <td>0.000000</td>\n",
       "      <td>0.000000</td>\n",
       "      <td>0.000000</td>\n",
       "      <td>0.000000</td>\n",
       "      <td>0.000000</td>\n",
       "      <td>0.000000</td>\n",
       "      <td>0.000000</td>\n",
       "      <td>0.000000</td>\n",
       "    </tr>\n",
       "    <tr>\n",
       "      <th>25%</th>\n",
       "      <td>0.000000</td>\n",
       "      <td>0.000000e+00</td>\n",
       "      <td>0.000000e+00</td>\n",
       "      <td>0.000000</td>\n",
       "      <td>0.000000</td>\n",
       "      <td>0.000000</td>\n",
       "      <td>0.500000</td>\n",
       "      <td>0.000000</td>\n",
       "      <td>0.000000</td>\n",
       "      <td>0.000000</td>\n",
       "      <td>0.000000</td>\n",
       "      <td>0.000000</td>\n",
       "      <td>0.000000</td>\n",
       "      <td>0.000000</td>\n",
       "      <td>0.000000</td>\n",
       "    </tr>\n",
       "    <tr>\n",
       "      <th>50%</th>\n",
       "      <td>0.000000</td>\n",
       "      <td>0.000000e+00</td>\n",
       "      <td>0.000000e+00</td>\n",
       "      <td>0.000000</td>\n",
       "      <td>0.000000</td>\n",
       "      <td>0.000000</td>\n",
       "      <td>0.860000</td>\n",
       "      <td>0.000000</td>\n",
       "      <td>0.000000</td>\n",
       "      <td>0.000000</td>\n",
       "      <td>0.000000</td>\n",
       "      <td>0.000000</td>\n",
       "      <td>0.000000</td>\n",
       "      <td>0.000000</td>\n",
       "      <td>0.000000</td>\n",
       "    </tr>\n",
       "    <tr>\n",
       "      <th>75%</th>\n",
       "      <td>2.935563</td>\n",
       "      <td>0.000000e+00</td>\n",
       "      <td>0.000000e+00</td>\n",
       "      <td>0.000000</td>\n",
       "      <td>0.000000</td>\n",
       "      <td>0.000000</td>\n",
       "      <td>1.000000</td>\n",
       "      <td>1.000000</td>\n",
       "      <td>17.000000</td>\n",
       "      <td>0.000000</td>\n",
       "      <td>0.000000</td>\n",
       "      <td>0.850000</td>\n",
       "      <td>0.000000</td>\n",
       "      <td>0.000000</td>\n",
       "      <td>0.000000</td>\n",
       "    </tr>\n",
       "    <tr>\n",
       "      <th>max</th>\n",
       "      <td>4523.231778</td>\n",
       "      <td>4.478331e+08</td>\n",
       "      <td>2.030488e+06</td>\n",
       "      <td>99.000000</td>\n",
       "      <td>1.000000</td>\n",
       "      <td>1.000000</td>\n",
       "      <td>1.000000</td>\n",
       "      <td>100.000000</td>\n",
       "      <td>100.000000</td>\n",
       "      <td>1.000000</td>\n",
       "      <td>1.000000</td>\n",
       "      <td>1.000000</td>\n",
       "      <td>1.000000</td>\n",
       "      <td>1.000000</td>\n",
       "      <td>1.000000</td>\n",
       "    </tr>\n",
       "  </tbody>\n",
       "</table>\n",
       "</div>"
      ],
      "text/plain": [
       "            duration  source_bytes  destination_bytes          count  \\\n",
       "count  216897.000000  2.168970e+05       2.168970e+05  216897.000000   \n",
       "mean        1.994840  2.320066e+03       2.448276e+02       0.665127   \n",
       "std        17.584003  9.666528e+05       7.809690e+03       4.137029   \n",
       "min         0.000000  0.000000e+00       0.000000e+00       0.000000   \n",
       "25%         0.000000  0.000000e+00       0.000000e+00       0.000000   \n",
       "50%         0.000000  0.000000e+00       0.000000e+00       0.000000   \n",
       "75%         2.935563  0.000000e+00       0.000000e+00       0.000000   \n",
       "max      4523.231778  4.478331e+08       2.030488e+06      99.000000   \n",
       "\n",
       "       same_srv_rate  serror_srv_rate  srv_serror_rate  dst_host_count  \\\n",
       "count  216897.000000    216897.000000    216897.000000   216897.000000   \n",
       "mean        0.151161         0.068980         0.703322        9.190888   \n",
       "std         0.357461         0.248934         0.355445       22.839879   \n",
       "min         0.000000         0.000000         0.000000        0.000000   \n",
       "25%         0.000000         0.000000         0.500000        0.000000   \n",
       "50%         0.000000         0.000000         0.860000        0.000000   \n",
       "75%         0.000000         0.000000         1.000000        1.000000   \n",
       "max         1.000000         1.000000         1.000000      100.000000   \n",
       "\n",
       "       dst_host_srv_count  dst_host_same_src_port_rate  dst_host_serror_rate  \\\n",
       "count       216897.000000                216897.000000         216897.000000   \n",
       "mean            14.184355                     0.113834              0.191490   \n",
       "std             25.269047                     0.312390              0.384233   \n",
       "min              0.000000                     0.000000              0.000000   \n",
       "25%              0.000000                     0.000000              0.000000   \n",
       "50%              0.000000                     0.000000              0.000000   \n",
       "75%             17.000000                     0.000000              0.000000   \n",
       "max            100.000000                     1.000000              1.000000   \n",
       "\n",
       "       dst_host_serror_srv_rate  ids_detection  malware_detection  \\\n",
       "count             216897.000000  216897.000000      216897.000000   \n",
       "mean                   0.260107       0.038230           0.000738   \n",
       "std                    0.424072       0.191752           0.027150   \n",
       "min                    0.000000       0.000000           0.000000   \n",
       "25%                    0.000000       0.000000           0.000000   \n",
       "50%                    0.000000       0.000000           0.000000   \n",
       "75%                    0.850000       0.000000           0.000000   \n",
       "max                    1.000000       1.000000           1.000000   \n",
       "\n",
       "       ashula_detection  \n",
       "count     216897.000000  \n",
       "mean           0.002610  \n",
       "std            0.051017  \n",
       "min            0.000000  \n",
       "25%            0.000000  \n",
       "50%            0.000000  \n",
       "75%            0.000000  \n",
       "max            1.000000  "
      ]
     },
     "execution_count": 10,
     "metadata": {},
     "output_type": "execute_result"
    }
   ],
   "source": [
    "dataset.kdd_train.describe()"
   ]
  },
  {
   "cell_type": "code",
   "execution_count": 11,
   "metadata": {
    "ExecuteTime": {
     "end_time": "2017-07-19T14:02:45.154720Z",
     "start_time": "2017-07-19T14:02:45.106093Z"
    },
    "collapsed": true
   },
   "outputs": [],
   "source": [
    "category_variables = [\"service\",\"flag\", 'ids_detection', 'malware_detection', 'ashula_detection', 'session']\n",
    "\n",
    "for cv in category_variables:\n",
    "    dataset.kdd_train[cv] = dataset.kdd_train[cv].astype(\"category\")\n",
    "    \n",
    "    #print(\"Length of Categories for {} are {}\".format(cv , len(dataset.kdd_train[cv].cat.categories)))\n",
    "    #print(\"Categories for {} are {} \\n\".format(cv ,dataset.kdd_train[cv].cat.categories))\n",
    "\n",
    "    "
   ]
  },
  {
   "cell_type": "code",
   "execution_count": 12,
   "metadata": {
    "ExecuteTime": {
     "end_time": "2017-07-19T14:02:45.203355Z",
     "start_time": "2017-07-19T14:02:45.156282Z"
    },
    "collapsed": true
   },
   "outputs": [],
   "source": [
    "dummy_variables_2labels = category_variables\n",
    "    \n",
    "class preprocessing:\n",
    "    kdd_train_2labels = pd.get_dummies(dataset.kdd_train, columns = dummy_variables_2labels, prefix=dummy_variables_2labels)\n",
    "    "
   ]
  },
  {
   "cell_type": "code",
   "execution_count": 13,
   "metadata": {
    "ExecuteTime": {
     "end_time": "2017-07-19T14:02:45.286967Z",
     "start_time": "2017-07-19T14:02:45.204982Z"
    }
   },
   "outputs": [
    {
     "data": {
      "text/html": [
       "<div>\n",
       "<style>\n",
       "    .dataframe thead tr:only-child th {\n",
       "        text-align: right;\n",
       "    }\n",
       "\n",
       "    .dataframe thead th {\n",
       "        text-align: left;\n",
       "    }\n",
       "\n",
       "    .dataframe tbody tr th {\n",
       "        vertical-align: top;\n",
       "    }\n",
       "</style>\n",
       "<table border=\"1\" class=\"dataframe\">\n",
       "  <thead>\n",
       "    <tr style=\"text-align: right;\">\n",
       "      <th></th>\n",
       "      <th>duration</th>\n",
       "      <th>source_bytes</th>\n",
       "      <th>destination_bytes</th>\n",
       "      <th>count</th>\n",
       "      <th>same_srv_rate</th>\n",
       "      <th>serror_srv_rate</th>\n",
       "      <th>srv_serror_rate</th>\n",
       "      <th>dst_host_count</th>\n",
       "      <th>dst_host_srv_count</th>\n",
       "      <th>dst_host_same_src_port_rate</th>\n",
       "      <th>...</th>\n",
       "      <th>flag_SHR</th>\n",
       "      <th>ids_detection_0</th>\n",
       "      <th>ids_detection_1</th>\n",
       "      <th>malware_detection_0</th>\n",
       "      <th>malware_detection_1</th>\n",
       "      <th>ashula_detection_0</th>\n",
       "      <th>ashula_detection_1</th>\n",
       "      <th>session_icmp</th>\n",
       "      <th>session_tcp</th>\n",
       "      <th>session_udp</th>\n",
       "    </tr>\n",
       "  </thead>\n",
       "  <tbody>\n",
       "    <tr>\n",
       "      <th>0</th>\n",
       "      <td>0.000000</td>\n",
       "      <td>0</td>\n",
       "      <td>0</td>\n",
       "      <td>0</td>\n",
       "      <td>0.0</td>\n",
       "      <td>0.0</td>\n",
       "      <td>0.00</td>\n",
       "      <td>0</td>\n",
       "      <td>0</td>\n",
       "      <td>0.0</td>\n",
       "      <td>...</td>\n",
       "      <td>0</td>\n",
       "      <td>1</td>\n",
       "      <td>0</td>\n",
       "      <td>1</td>\n",
       "      <td>0</td>\n",
       "      <td>1</td>\n",
       "      <td>0</td>\n",
       "      <td>0</td>\n",
       "      <td>1</td>\n",
       "      <td>0</td>\n",
       "    </tr>\n",
       "    <tr>\n",
       "      <th>1</th>\n",
       "      <td>2.954396</td>\n",
       "      <td>0</td>\n",
       "      <td>0</td>\n",
       "      <td>0</td>\n",
       "      <td>0.0</td>\n",
       "      <td>0.0</td>\n",
       "      <td>0.00</td>\n",
       "      <td>0</td>\n",
       "      <td>0</td>\n",
       "      <td>0.0</td>\n",
       "      <td>...</td>\n",
       "      <td>0</td>\n",
       "      <td>1</td>\n",
       "      <td>0</td>\n",
       "      <td>1</td>\n",
       "      <td>0</td>\n",
       "      <td>1</td>\n",
       "      <td>0</td>\n",
       "      <td>0</td>\n",
       "      <td>1</td>\n",
       "      <td>0</td>\n",
       "    </tr>\n",
       "    <tr>\n",
       "      <th>2</th>\n",
       "      <td>0.000000</td>\n",
       "      <td>0</td>\n",
       "      <td>0</td>\n",
       "      <td>0</td>\n",
       "      <td>0.0</td>\n",
       "      <td>0.0</td>\n",
       "      <td>0.00</td>\n",
       "      <td>0</td>\n",
       "      <td>0</td>\n",
       "      <td>0.0</td>\n",
       "      <td>...</td>\n",
       "      <td>0</td>\n",
       "      <td>1</td>\n",
       "      <td>0</td>\n",
       "      <td>1</td>\n",
       "      <td>0</td>\n",
       "      <td>1</td>\n",
       "      <td>0</td>\n",
       "      <td>0</td>\n",
       "      <td>1</td>\n",
       "      <td>0</td>\n",
       "    </tr>\n",
       "    <tr>\n",
       "      <th>3</th>\n",
       "      <td>2.890600</td>\n",
       "      <td>0</td>\n",
       "      <td>0</td>\n",
       "      <td>0</td>\n",
       "      <td>0.0</td>\n",
       "      <td>0.0</td>\n",
       "      <td>0.00</td>\n",
       "      <td>0</td>\n",
       "      <td>0</td>\n",
       "      <td>0.0</td>\n",
       "      <td>...</td>\n",
       "      <td>0</td>\n",
       "      <td>1</td>\n",
       "      <td>0</td>\n",
       "      <td>1</td>\n",
       "      <td>0</td>\n",
       "      <td>1</td>\n",
       "      <td>0</td>\n",
       "      <td>0</td>\n",
       "      <td>1</td>\n",
       "      <td>0</td>\n",
       "    </tr>\n",
       "    <tr>\n",
       "      <th>4</th>\n",
       "      <td>2.975500</td>\n",
       "      <td>0</td>\n",
       "      <td>0</td>\n",
       "      <td>0</td>\n",
       "      <td>0.0</td>\n",
       "      <td>0.0</td>\n",
       "      <td>0.00</td>\n",
       "      <td>0</td>\n",
       "      <td>0</td>\n",
       "      <td>0.0</td>\n",
       "      <td>...</td>\n",
       "      <td>0</td>\n",
       "      <td>1</td>\n",
       "      <td>0</td>\n",
       "      <td>1</td>\n",
       "      <td>0</td>\n",
       "      <td>1</td>\n",
       "      <td>0</td>\n",
       "      <td>0</td>\n",
       "      <td>1</td>\n",
       "      <td>0</td>\n",
       "    </tr>\n",
       "    <tr>\n",
       "      <th>5</th>\n",
       "      <td>2.991582</td>\n",
       "      <td>0</td>\n",
       "      <td>0</td>\n",
       "      <td>0</td>\n",
       "      <td>0.0</td>\n",
       "      <td>0.0</td>\n",
       "      <td>0.00</td>\n",
       "      <td>0</td>\n",
       "      <td>0</td>\n",
       "      <td>0.0</td>\n",
       "      <td>...</td>\n",
       "      <td>0</td>\n",
       "      <td>1</td>\n",
       "      <td>0</td>\n",
       "      <td>1</td>\n",
       "      <td>0</td>\n",
       "      <td>1</td>\n",
       "      <td>0</td>\n",
       "      <td>0</td>\n",
       "      <td>1</td>\n",
       "      <td>0</td>\n",
       "    </tr>\n",
       "    <tr>\n",
       "      <th>6</th>\n",
       "      <td>0.000000</td>\n",
       "      <td>0</td>\n",
       "      <td>0</td>\n",
       "      <td>0</td>\n",
       "      <td>0.0</td>\n",
       "      <td>0.0</td>\n",
       "      <td>0.00</td>\n",
       "      <td>0</td>\n",
       "      <td>0</td>\n",
       "      <td>0.0</td>\n",
       "      <td>...</td>\n",
       "      <td>0</td>\n",
       "      <td>1</td>\n",
       "      <td>0</td>\n",
       "      <td>1</td>\n",
       "      <td>0</td>\n",
       "      <td>1</td>\n",
       "      <td>0</td>\n",
       "      <td>0</td>\n",
       "      <td>1</td>\n",
       "      <td>0</td>\n",
       "    </tr>\n",
       "    <tr>\n",
       "      <th>...</th>\n",
       "      <td>...</td>\n",
       "      <td>...</td>\n",
       "      <td>...</td>\n",
       "      <td>...</td>\n",
       "      <td>...</td>\n",
       "      <td>...</td>\n",
       "      <td>...</td>\n",
       "      <td>...</td>\n",
       "      <td>...</td>\n",
       "      <td>...</td>\n",
       "      <td>...</td>\n",
       "      <td>...</td>\n",
       "      <td>...</td>\n",
       "      <td>...</td>\n",
       "      <td>...</td>\n",
       "      <td>...</td>\n",
       "      <td>...</td>\n",
       "      <td>...</td>\n",
       "      <td>...</td>\n",
       "      <td>...</td>\n",
       "      <td>...</td>\n",
       "    </tr>\n",
       "    <tr>\n",
       "      <th>216890</th>\n",
       "      <td>3.000288</td>\n",
       "      <td>0</td>\n",
       "      <td>0</td>\n",
       "      <td>0</td>\n",
       "      <td>0.0</td>\n",
       "      <td>0.0</td>\n",
       "      <td>0.50</td>\n",
       "      <td>59</td>\n",
       "      <td>63</td>\n",
       "      <td>0.0</td>\n",
       "      <td>...</td>\n",
       "      <td>0</td>\n",
       "      <td>1</td>\n",
       "      <td>0</td>\n",
       "      <td>1</td>\n",
       "      <td>0</td>\n",
       "      <td>1</td>\n",
       "      <td>0</td>\n",
       "      <td>0</td>\n",
       "      <td>1</td>\n",
       "      <td>0</td>\n",
       "    </tr>\n",
       "    <tr>\n",
       "      <th>216891</th>\n",
       "      <td>0.000000</td>\n",
       "      <td>0</td>\n",
       "      <td>0</td>\n",
       "      <td>0</td>\n",
       "      <td>0.0</td>\n",
       "      <td>0.0</td>\n",
       "      <td>0.67</td>\n",
       "      <td>1</td>\n",
       "      <td>2</td>\n",
       "      <td>1.0</td>\n",
       "      <td>...</td>\n",
       "      <td>0</td>\n",
       "      <td>1</td>\n",
       "      <td>0</td>\n",
       "      <td>1</td>\n",
       "      <td>0</td>\n",
       "      <td>1</td>\n",
       "      <td>0</td>\n",
       "      <td>0</td>\n",
       "      <td>1</td>\n",
       "      <td>0</td>\n",
       "    </tr>\n",
       "    <tr>\n",
       "      <th>216892</th>\n",
       "      <td>0.000000</td>\n",
       "      <td>0</td>\n",
       "      <td>0</td>\n",
       "      <td>0</td>\n",
       "      <td>0.0</td>\n",
       "      <td>0.0</td>\n",
       "      <td>1.00</td>\n",
       "      <td>2</td>\n",
       "      <td>41</td>\n",
       "      <td>1.0</td>\n",
       "      <td>...</td>\n",
       "      <td>0</td>\n",
       "      <td>1</td>\n",
       "      <td>0</td>\n",
       "      <td>1</td>\n",
       "      <td>0</td>\n",
       "      <td>1</td>\n",
       "      <td>0</td>\n",
       "      <td>0</td>\n",
       "      <td>1</td>\n",
       "      <td>0</td>\n",
       "    </tr>\n",
       "    <tr>\n",
       "      <th>216893</th>\n",
       "      <td>0.000000</td>\n",
       "      <td>0</td>\n",
       "      <td>0</td>\n",
       "      <td>0</td>\n",
       "      <td>0.0</td>\n",
       "      <td>0.0</td>\n",
       "      <td>1.00</td>\n",
       "      <td>1</td>\n",
       "      <td>1</td>\n",
       "      <td>1.0</td>\n",
       "      <td>...</td>\n",
       "      <td>0</td>\n",
       "      <td>0</td>\n",
       "      <td>1</td>\n",
       "      <td>1</td>\n",
       "      <td>0</td>\n",
       "      <td>1</td>\n",
       "      <td>0</td>\n",
       "      <td>1</td>\n",
       "      <td>0</td>\n",
       "      <td>0</td>\n",
       "    </tr>\n",
       "    <tr>\n",
       "      <th>216894</th>\n",
       "      <td>0.000000</td>\n",
       "      <td>0</td>\n",
       "      <td>0</td>\n",
       "      <td>0</td>\n",
       "      <td>0.0</td>\n",
       "      <td>0.0</td>\n",
       "      <td>0.67</td>\n",
       "      <td>0</td>\n",
       "      <td>0</td>\n",
       "      <td>0.0</td>\n",
       "      <td>...</td>\n",
       "      <td>0</td>\n",
       "      <td>1</td>\n",
       "      <td>0</td>\n",
       "      <td>1</td>\n",
       "      <td>0</td>\n",
       "      <td>1</td>\n",
       "      <td>0</td>\n",
       "      <td>0</td>\n",
       "      <td>0</td>\n",
       "      <td>1</td>\n",
       "    </tr>\n",
       "    <tr>\n",
       "      <th>216895</th>\n",
       "      <td>0.000000</td>\n",
       "      <td>0</td>\n",
       "      <td>0</td>\n",
       "      <td>1</td>\n",
       "      <td>1.0</td>\n",
       "      <td>1.0</td>\n",
       "      <td>0.67</td>\n",
       "      <td>1</td>\n",
       "      <td>41</td>\n",
       "      <td>1.0</td>\n",
       "      <td>...</td>\n",
       "      <td>0</td>\n",
       "      <td>1</td>\n",
       "      <td>0</td>\n",
       "      <td>1</td>\n",
       "      <td>0</td>\n",
       "      <td>1</td>\n",
       "      <td>0</td>\n",
       "      <td>0</td>\n",
       "      <td>1</td>\n",
       "      <td>0</td>\n",
       "    </tr>\n",
       "    <tr>\n",
       "      <th>216896</th>\n",
       "      <td>0.000000</td>\n",
       "      <td>0</td>\n",
       "      <td>0</td>\n",
       "      <td>0</td>\n",
       "      <td>0.0</td>\n",
       "      <td>0.0</td>\n",
       "      <td>0.75</td>\n",
       "      <td>59</td>\n",
       "      <td>63</td>\n",
       "      <td>0.0</td>\n",
       "      <td>...</td>\n",
       "      <td>0</td>\n",
       "      <td>1</td>\n",
       "      <td>0</td>\n",
       "      <td>1</td>\n",
       "      <td>0</td>\n",
       "      <td>1</td>\n",
       "      <td>0</td>\n",
       "      <td>0</td>\n",
       "      <td>1</td>\n",
       "      <td>0</td>\n",
       "    </tr>\n",
       "  </tbody>\n",
       "</table>\n",
       "<p>216897 rows × 44 columns</p>\n",
       "</div>"
      ],
      "text/plain": [
       "        duration  source_bytes  destination_bytes  count  same_srv_rate  \\\n",
       "0       0.000000             0                  0      0            0.0   \n",
       "1       2.954396             0                  0      0            0.0   \n",
       "2       0.000000             0                  0      0            0.0   \n",
       "3       2.890600             0                  0      0            0.0   \n",
       "4       2.975500             0                  0      0            0.0   \n",
       "5       2.991582             0                  0      0            0.0   \n",
       "6       0.000000             0                  0      0            0.0   \n",
       "...          ...           ...                ...    ...            ...   \n",
       "216890  3.000288             0                  0      0            0.0   \n",
       "216891  0.000000             0                  0      0            0.0   \n",
       "216892  0.000000             0                  0      0            0.0   \n",
       "216893  0.000000             0                  0      0            0.0   \n",
       "216894  0.000000             0                  0      0            0.0   \n",
       "216895  0.000000             0                  0      1            1.0   \n",
       "216896  0.000000             0                  0      0            0.0   \n",
       "\n",
       "        serror_srv_rate  srv_serror_rate  dst_host_count  dst_host_srv_count  \\\n",
       "0                   0.0             0.00               0                   0   \n",
       "1                   0.0             0.00               0                   0   \n",
       "2                   0.0             0.00               0                   0   \n",
       "3                   0.0             0.00               0                   0   \n",
       "4                   0.0             0.00               0                   0   \n",
       "5                   0.0             0.00               0                   0   \n",
       "6                   0.0             0.00               0                   0   \n",
       "...                 ...              ...             ...                 ...   \n",
       "216890              0.0             0.50              59                  63   \n",
       "216891              0.0             0.67               1                   2   \n",
       "216892              0.0             1.00               2                  41   \n",
       "216893              0.0             1.00               1                   1   \n",
       "216894              0.0             0.67               0                   0   \n",
       "216895              1.0             0.67               1                  41   \n",
       "216896              0.0             0.75              59                  63   \n",
       "\n",
       "        dst_host_same_src_port_rate     ...       flag_SHR  ids_detection_0  \\\n",
       "0                               0.0     ...              0                1   \n",
       "1                               0.0     ...              0                1   \n",
       "2                               0.0     ...              0                1   \n",
       "3                               0.0     ...              0                1   \n",
       "4                               0.0     ...              0                1   \n",
       "5                               0.0     ...              0                1   \n",
       "6                               0.0     ...              0                1   \n",
       "...                             ...     ...            ...              ...   \n",
       "216890                          0.0     ...              0                1   \n",
       "216891                          1.0     ...              0                1   \n",
       "216892                          1.0     ...              0                1   \n",
       "216893                          1.0     ...              0                0   \n",
       "216894                          0.0     ...              0                1   \n",
       "216895                          1.0     ...              0                1   \n",
       "216896                          0.0     ...              0                1   \n",
       "\n",
       "        ids_detection_1  malware_detection_0  malware_detection_1  \\\n",
       "0                     0                    1                    0   \n",
       "1                     0                    1                    0   \n",
       "2                     0                    1                    0   \n",
       "3                     0                    1                    0   \n",
       "4                     0                    1                    0   \n",
       "5                     0                    1                    0   \n",
       "6                     0                    1                    0   \n",
       "...                 ...                  ...                  ...   \n",
       "216890                0                    1                    0   \n",
       "216891                0                    1                    0   \n",
       "216892                0                    1                    0   \n",
       "216893                1                    1                    0   \n",
       "216894                0                    1                    0   \n",
       "216895                0                    1                    0   \n",
       "216896                0                    1                    0   \n",
       "\n",
       "        ashula_detection_0  ashula_detection_1  session_icmp  session_tcp  \\\n",
       "0                        1                   0             0            1   \n",
       "1                        1                   0             0            1   \n",
       "2                        1                   0             0            1   \n",
       "3                        1                   0             0            1   \n",
       "4                        1                   0             0            1   \n",
       "5                        1                   0             0            1   \n",
       "6                        1                   0             0            1   \n",
       "...                    ...                 ...           ...          ...   \n",
       "216890                   1                   0             0            1   \n",
       "216891                   1                   0             0            1   \n",
       "216892                   1                   0             0            1   \n",
       "216893                   1                   0             1            0   \n",
       "216894                   1                   0             0            0   \n",
       "216895                   1                   0             0            1   \n",
       "216896                   1                   0             0            1   \n",
       "\n",
       "        session_udp  \n",
       "0                 0  \n",
       "1                 0  \n",
       "2                 0  \n",
       "3                 0  \n",
       "4                 0  \n",
       "5                 0  \n",
       "6                 0  \n",
       "...             ...  \n",
       "216890            0  \n",
       "216891            0  \n",
       "216892            0  \n",
       "216893            0  \n",
       "216894            1  \n",
       "216895            0  \n",
       "216896            0  \n",
       "\n",
       "[216897 rows x 44 columns]"
      ]
     },
     "execution_count": 13,
     "metadata": {},
     "output_type": "execute_result"
    }
   ],
   "source": [
    "preprocessing.kdd_train_2labels"
   ]
  },
  {
   "cell_type": "code",
   "execution_count": 14,
   "metadata": {
    "ExecuteTime": {
     "end_time": "2017-07-19T14:02:45.327266Z",
     "start_time": "2017-07-19T14:02:45.288373Z"
    }
   },
   "outputs": [
    {
     "data": {
      "text/html": [
       "<div>\n",
       "<style>\n",
       "    .dataframe thead tr:only-child th {\n",
       "        text-align: right;\n",
       "    }\n",
       "\n",
       "    .dataframe thead th {\n",
       "        text-align: left;\n",
       "    }\n",
       "\n",
       "    .dataframe tbody tr th {\n",
       "        vertical-align: top;\n",
       "    }\n",
       "</style>\n",
       "<table border=\"1\" class=\"dataframe\">\n",
       "  <thead>\n",
       "    <tr style=\"text-align: right;\">\n",
       "      <th></th>\n",
       "      <th>duration</th>\n",
       "      <th>service</th>\n",
       "      <th>source_bytes</th>\n",
       "      <th>destination_bytes</th>\n",
       "      <th>count</th>\n",
       "      <th>same_srv_rate</th>\n",
       "      <th>serror_srv_rate</th>\n",
       "      <th>srv_serror_rate</th>\n",
       "      <th>dst_host_count</th>\n",
       "      <th>dst_host_srv_count</th>\n",
       "      <th>dst_host_same_src_port_rate</th>\n",
       "      <th>dst_host_serror_rate</th>\n",
       "      <th>dst_host_serror_srv_rate</th>\n",
       "      <th>flag</th>\n",
       "      <th>ids_detection</th>\n",
       "      <th>malware_detection</th>\n",
       "      <th>ashula_detection</th>\n",
       "      <th>session</th>\n",
       "    </tr>\n",
       "  </thead>\n",
       "  <tbody>\n",
       "    <tr>\n",
       "      <th>0</th>\n",
       "      <td>0.000000</td>\n",
       "      <td>other</td>\n",
       "      <td>0</td>\n",
       "      <td>0</td>\n",
       "      <td>0</td>\n",
       "      <td>0.0</td>\n",
       "      <td>0.0</td>\n",
       "      <td>0.00</td>\n",
       "      <td>0</td>\n",
       "      <td>0</td>\n",
       "      <td>0.0</td>\n",
       "      <td>0.00</td>\n",
       "      <td>0.00</td>\n",
       "      <td>S0</td>\n",
       "      <td>0</td>\n",
       "      <td>0</td>\n",
       "      <td>0</td>\n",
       "      <td>tcp</td>\n",
       "    </tr>\n",
       "    <tr>\n",
       "      <th>1</th>\n",
       "      <td>2.954396</td>\n",
       "      <td>other</td>\n",
       "      <td>0</td>\n",
       "      <td>0</td>\n",
       "      <td>0</td>\n",
       "      <td>0.0</td>\n",
       "      <td>0.0</td>\n",
       "      <td>0.00</td>\n",
       "      <td>0</td>\n",
       "      <td>0</td>\n",
       "      <td>0.0</td>\n",
       "      <td>0.00</td>\n",
       "      <td>0.00</td>\n",
       "      <td>S0</td>\n",
       "      <td>0</td>\n",
       "      <td>0</td>\n",
       "      <td>0</td>\n",
       "      <td>tcp</td>\n",
       "    </tr>\n",
       "    <tr>\n",
       "      <th>2</th>\n",
       "      <td>0.000000</td>\n",
       "      <td>other</td>\n",
       "      <td>0</td>\n",
       "      <td>0</td>\n",
       "      <td>0</td>\n",
       "      <td>0.0</td>\n",
       "      <td>0.0</td>\n",
       "      <td>0.00</td>\n",
       "      <td>0</td>\n",
       "      <td>0</td>\n",
       "      <td>0.0</td>\n",
       "      <td>0.00</td>\n",
       "      <td>0.00</td>\n",
       "      <td>S0</td>\n",
       "      <td>0</td>\n",
       "      <td>0</td>\n",
       "      <td>0</td>\n",
       "      <td>tcp</td>\n",
       "    </tr>\n",
       "    <tr>\n",
       "      <th>3</th>\n",
       "      <td>2.890600</td>\n",
       "      <td>other</td>\n",
       "      <td>0</td>\n",
       "      <td>0</td>\n",
       "      <td>0</td>\n",
       "      <td>0.0</td>\n",
       "      <td>0.0</td>\n",
       "      <td>0.00</td>\n",
       "      <td>0</td>\n",
       "      <td>0</td>\n",
       "      <td>0.0</td>\n",
       "      <td>0.00</td>\n",
       "      <td>0.00</td>\n",
       "      <td>S0</td>\n",
       "      <td>0</td>\n",
       "      <td>0</td>\n",
       "      <td>0</td>\n",
       "      <td>tcp</td>\n",
       "    </tr>\n",
       "    <tr>\n",
       "      <th>4</th>\n",
       "      <td>2.975500</td>\n",
       "      <td>other</td>\n",
       "      <td>0</td>\n",
       "      <td>0</td>\n",
       "      <td>0</td>\n",
       "      <td>0.0</td>\n",
       "      <td>0.0</td>\n",
       "      <td>0.00</td>\n",
       "      <td>0</td>\n",
       "      <td>0</td>\n",
       "      <td>0.0</td>\n",
       "      <td>0.00</td>\n",
       "      <td>0.00</td>\n",
       "      <td>S0</td>\n",
       "      <td>0</td>\n",
       "      <td>0</td>\n",
       "      <td>0</td>\n",
       "      <td>tcp</td>\n",
       "    </tr>\n",
       "    <tr>\n",
       "      <th>5</th>\n",
       "      <td>2.991582</td>\n",
       "      <td>other</td>\n",
       "      <td>0</td>\n",
       "      <td>0</td>\n",
       "      <td>0</td>\n",
       "      <td>0.0</td>\n",
       "      <td>0.0</td>\n",
       "      <td>0.00</td>\n",
       "      <td>0</td>\n",
       "      <td>0</td>\n",
       "      <td>0.0</td>\n",
       "      <td>0.00</td>\n",
       "      <td>0.00</td>\n",
       "      <td>S0</td>\n",
       "      <td>0</td>\n",
       "      <td>0</td>\n",
       "      <td>0</td>\n",
       "      <td>tcp</td>\n",
       "    </tr>\n",
       "    <tr>\n",
       "      <th>6</th>\n",
       "      <td>0.000000</td>\n",
       "      <td>other</td>\n",
       "      <td>0</td>\n",
       "      <td>0</td>\n",
       "      <td>0</td>\n",
       "      <td>0.0</td>\n",
       "      <td>0.0</td>\n",
       "      <td>0.00</td>\n",
       "      <td>0</td>\n",
       "      <td>0</td>\n",
       "      <td>0.0</td>\n",
       "      <td>0.00</td>\n",
       "      <td>0.00</td>\n",
       "      <td>S0</td>\n",
       "      <td>0</td>\n",
       "      <td>0</td>\n",
       "      <td>0</td>\n",
       "      <td>tcp</td>\n",
       "    </tr>\n",
       "    <tr>\n",
       "      <th>...</th>\n",
       "      <td>...</td>\n",
       "      <td>...</td>\n",
       "      <td>...</td>\n",
       "      <td>...</td>\n",
       "      <td>...</td>\n",
       "      <td>...</td>\n",
       "      <td>...</td>\n",
       "      <td>...</td>\n",
       "      <td>...</td>\n",
       "      <td>...</td>\n",
       "      <td>...</td>\n",
       "      <td>...</td>\n",
       "      <td>...</td>\n",
       "      <td>...</td>\n",
       "      <td>...</td>\n",
       "      <td>...</td>\n",
       "      <td>...</td>\n",
       "      <td>...</td>\n",
       "    </tr>\n",
       "    <tr>\n",
       "      <th>216890</th>\n",
       "      <td>3.000288</td>\n",
       "      <td>other</td>\n",
       "      <td>0</td>\n",
       "      <td>0</td>\n",
       "      <td>0</td>\n",
       "      <td>0.0</td>\n",
       "      <td>0.0</td>\n",
       "      <td>0.50</td>\n",
       "      <td>59</td>\n",
       "      <td>63</td>\n",
       "      <td>0.0</td>\n",
       "      <td>0.92</td>\n",
       "      <td>0.86</td>\n",
       "      <td>S0</td>\n",
       "      <td>0</td>\n",
       "      <td>0</td>\n",
       "      <td>0</td>\n",
       "      <td>tcp</td>\n",
       "    </tr>\n",
       "    <tr>\n",
       "      <th>216891</th>\n",
       "      <td>0.000000</td>\n",
       "      <td>other</td>\n",
       "      <td>0</td>\n",
       "      <td>0</td>\n",
       "      <td>0</td>\n",
       "      <td>0.0</td>\n",
       "      <td>0.0</td>\n",
       "      <td>0.67</td>\n",
       "      <td>1</td>\n",
       "      <td>2</td>\n",
       "      <td>1.0</td>\n",
       "      <td>1.00</td>\n",
       "      <td>1.00</td>\n",
       "      <td>S0</td>\n",
       "      <td>0</td>\n",
       "      <td>0</td>\n",
       "      <td>0</td>\n",
       "      <td>tcp</td>\n",
       "    </tr>\n",
       "    <tr>\n",
       "      <th>216892</th>\n",
       "      <td>0.000000</td>\n",
       "      <td>other</td>\n",
       "      <td>0</td>\n",
       "      <td>0</td>\n",
       "      <td>0</td>\n",
       "      <td>0.0</td>\n",
       "      <td>0.0</td>\n",
       "      <td>1.00</td>\n",
       "      <td>2</td>\n",
       "      <td>41</td>\n",
       "      <td>1.0</td>\n",
       "      <td>1.00</td>\n",
       "      <td>1.00</td>\n",
       "      <td>S0</td>\n",
       "      <td>0</td>\n",
       "      <td>0</td>\n",
       "      <td>0</td>\n",
       "      <td>tcp</td>\n",
       "    </tr>\n",
       "    <tr>\n",
       "      <th>216893</th>\n",
       "      <td>0.000000</td>\n",
       "      <td>other</td>\n",
       "      <td>0</td>\n",
       "      <td>0</td>\n",
       "      <td>0</td>\n",
       "      <td>0.0</td>\n",
       "      <td>0.0</td>\n",
       "      <td>1.00</td>\n",
       "      <td>1</td>\n",
       "      <td>1</td>\n",
       "      <td>1.0</td>\n",
       "      <td>0.00</td>\n",
       "      <td>0.00</td>\n",
       "      <td>OTH</td>\n",
       "      <td>1</td>\n",
       "      <td>0</td>\n",
       "      <td>0</td>\n",
       "      <td>icmp</td>\n",
       "    </tr>\n",
       "    <tr>\n",
       "      <th>216894</th>\n",
       "      <td>0.000000</td>\n",
       "      <td>other</td>\n",
       "      <td>0</td>\n",
       "      <td>0</td>\n",
       "      <td>0</td>\n",
       "      <td>0.0</td>\n",
       "      <td>0.0</td>\n",
       "      <td>0.67</td>\n",
       "      <td>0</td>\n",
       "      <td>0</td>\n",
       "      <td>0.0</td>\n",
       "      <td>0.00</td>\n",
       "      <td>0.00</td>\n",
       "      <td>S0</td>\n",
       "      <td>0</td>\n",
       "      <td>0</td>\n",
       "      <td>0</td>\n",
       "      <td>udp</td>\n",
       "    </tr>\n",
       "    <tr>\n",
       "      <th>216895</th>\n",
       "      <td>0.000000</td>\n",
       "      <td>other</td>\n",
       "      <td>0</td>\n",
       "      <td>0</td>\n",
       "      <td>1</td>\n",
       "      <td>1.0</td>\n",
       "      <td>1.0</td>\n",
       "      <td>0.67</td>\n",
       "      <td>1</td>\n",
       "      <td>41</td>\n",
       "      <td>1.0</td>\n",
       "      <td>1.00</td>\n",
       "      <td>1.00</td>\n",
       "      <td>S0</td>\n",
       "      <td>0</td>\n",
       "      <td>0</td>\n",
       "      <td>0</td>\n",
       "      <td>tcp</td>\n",
       "    </tr>\n",
       "    <tr>\n",
       "      <th>216896</th>\n",
       "      <td>0.000000</td>\n",
       "      <td>other</td>\n",
       "      <td>0</td>\n",
       "      <td>0</td>\n",
       "      <td>0</td>\n",
       "      <td>0.0</td>\n",
       "      <td>0.0</td>\n",
       "      <td>0.75</td>\n",
       "      <td>59</td>\n",
       "      <td>63</td>\n",
       "      <td>0.0</td>\n",
       "      <td>0.92</td>\n",
       "      <td>0.86</td>\n",
       "      <td>S0</td>\n",
       "      <td>0</td>\n",
       "      <td>0</td>\n",
       "      <td>0</td>\n",
       "      <td>tcp</td>\n",
       "    </tr>\n",
       "  </tbody>\n",
       "</table>\n",
       "<p>216897 rows × 18 columns</p>\n",
       "</div>"
      ],
      "text/plain": [
       "        duration service  source_bytes  destination_bytes  count  \\\n",
       "0       0.000000   other             0                  0      0   \n",
       "1       2.954396   other             0                  0      0   \n",
       "2       0.000000   other             0                  0      0   \n",
       "3       2.890600   other             0                  0      0   \n",
       "4       2.975500   other             0                  0      0   \n",
       "5       2.991582   other             0                  0      0   \n",
       "6       0.000000   other             0                  0      0   \n",
       "...          ...     ...           ...                ...    ...   \n",
       "216890  3.000288   other             0                  0      0   \n",
       "216891  0.000000   other             0                  0      0   \n",
       "216892  0.000000   other             0                  0      0   \n",
       "216893  0.000000   other             0                  0      0   \n",
       "216894  0.000000   other             0                  0      0   \n",
       "216895  0.000000   other             0                  0      1   \n",
       "216896  0.000000   other             0                  0      0   \n",
       "\n",
       "        same_srv_rate  serror_srv_rate  srv_serror_rate  dst_host_count  \\\n",
       "0                 0.0              0.0             0.00               0   \n",
       "1                 0.0              0.0             0.00               0   \n",
       "2                 0.0              0.0             0.00               0   \n",
       "3                 0.0              0.0             0.00               0   \n",
       "4                 0.0              0.0             0.00               0   \n",
       "5                 0.0              0.0             0.00               0   \n",
       "6                 0.0              0.0             0.00               0   \n",
       "...               ...              ...              ...             ...   \n",
       "216890            0.0              0.0             0.50              59   \n",
       "216891            0.0              0.0             0.67               1   \n",
       "216892            0.0              0.0             1.00               2   \n",
       "216893            0.0              0.0             1.00               1   \n",
       "216894            0.0              0.0             0.67               0   \n",
       "216895            1.0              1.0             0.67               1   \n",
       "216896            0.0              0.0             0.75              59   \n",
       "\n",
       "        dst_host_srv_count  dst_host_same_src_port_rate  dst_host_serror_rate  \\\n",
       "0                        0                          0.0                  0.00   \n",
       "1                        0                          0.0                  0.00   \n",
       "2                        0                          0.0                  0.00   \n",
       "3                        0                          0.0                  0.00   \n",
       "4                        0                          0.0                  0.00   \n",
       "5                        0                          0.0                  0.00   \n",
       "6                        0                          0.0                  0.00   \n",
       "...                    ...                          ...                   ...   \n",
       "216890                  63                          0.0                  0.92   \n",
       "216891                   2                          1.0                  1.00   \n",
       "216892                  41                          1.0                  1.00   \n",
       "216893                   1                          1.0                  0.00   \n",
       "216894                   0                          0.0                  0.00   \n",
       "216895                  41                          1.0                  1.00   \n",
       "216896                  63                          0.0                  0.92   \n",
       "\n",
       "        dst_host_serror_srv_rate flag ids_detection malware_detection  \\\n",
       "0                           0.00   S0             0                 0   \n",
       "1                           0.00   S0             0                 0   \n",
       "2                           0.00   S0             0                 0   \n",
       "3                           0.00   S0             0                 0   \n",
       "4                           0.00   S0             0                 0   \n",
       "5                           0.00   S0             0                 0   \n",
       "6                           0.00   S0             0                 0   \n",
       "...                          ...  ...           ...               ...   \n",
       "216890                      0.86   S0             0                 0   \n",
       "216891                      1.00   S0             0                 0   \n",
       "216892                      1.00   S0             0                 0   \n",
       "216893                      0.00  OTH             1                 0   \n",
       "216894                      0.00   S0             0                 0   \n",
       "216895                      1.00   S0             0                 0   \n",
       "216896                      0.86   S0             0                 0   \n",
       "\n",
       "       ashula_detection session  \n",
       "0                     0     tcp  \n",
       "1                     0     tcp  \n",
       "2                     0     tcp  \n",
       "3                     0     tcp  \n",
       "4                     0     tcp  \n",
       "5                     0     tcp  \n",
       "6                     0     tcp  \n",
       "...                 ...     ...  \n",
       "216890                0     tcp  \n",
       "216891                0     tcp  \n",
       "216892                0     tcp  \n",
       "216893                0    icmp  \n",
       "216894                0     udp  \n",
       "216895                0     tcp  \n",
       "216896                0     tcp  \n",
       "\n",
       "[216897 rows x 18 columns]"
      ]
     },
     "execution_count": 14,
     "metadata": {},
     "output_type": "execute_result"
    }
   ],
   "source": [
    "dataset.kdd_train"
   ]
  },
  {
   "cell_type": "markdown",
   "metadata": {},
   "source": [
    "# Zero Data Points"
   ]
  },
  {
   "cell_type": "code",
   "execution_count": 15,
   "metadata": {
    "ExecuteTime": {
     "end_time": "2017-07-19T14:02:45.646542Z",
     "start_time": "2017-07-19T14:02:45.328615Z"
    }
   },
   "outputs": [
    {
     "data": {
      "text/plain": [
       "0.65089164185970505"
      ]
     },
     "execution_count": 15,
     "metadata": {},
     "output_type": "execute_result"
    }
   ],
   "source": [
    "a = dataset.kdd_train.isin([0])\n",
    "a.sum().sum() / a.size\n"
   ]
  },
  {
   "cell_type": "code",
   "execution_count": null,
   "metadata": {
    "collapsed": true
   },
   "outputs": [],
   "source": []
  },
  {
   "cell_type": "code",
   "execution_count": null,
   "metadata": {
    "ExecuteTime": {
     "end_time": "2017-06-29T18:35:38.898364Z",
     "start_time": "2017-06-29T18:35:38.816277Z"
    },
    "collapsed": true
   },
   "outputs": [],
   "source": []
  },
  {
   "cell_type": "code",
   "execution_count": 16,
   "metadata": {
    "ExecuteTime": {
     "end_time": "2017-07-19T14:02:45.767872Z",
     "start_time": "2017-07-19T14:02:45.647960Z"
    }
   },
   "outputs": [
    {
     "ename": "KeyError",
     "evalue": "'type'",
     "output_type": "error",
     "traceback": [
      "\u001b[0;31m---------------------------------------------------------------------------\u001b[0m",
      "\u001b[0;31mKeyError\u001b[0m                                  Traceback (most recent call last)",
      "\u001b[0;32m<ipython-input-16-991b79badf09>\u001b[0m in \u001b[0;36m<module>\u001b[0;34m()\u001b[0m\n\u001b[0;32m----> 1\u001b[0;31m \u001b[0mkdd_attack_type_group\u001b[0m \u001b[0;34m=\u001b[0m \u001b[0mdataset\u001b[0m\u001b[0;34m.\u001b[0m\u001b[0mkdd_train\u001b[0m\u001b[0;34m.\u001b[0m\u001b[0mgroupby\u001b[0m\u001b[0;34m(\u001b[0m\u001b[0;34m\"type\"\u001b[0m\u001b[0;34m)\u001b[0m\u001b[0;34m\u001b[0m\u001b[0m\n\u001b[0m\u001b[1;32m      2\u001b[0m \u001b[0mkdd_is_attack_group\u001b[0m \u001b[0;34m=\u001b[0m \u001b[0mdataset\u001b[0m\u001b[0;34m.\u001b[0m\u001b[0mkdd_train\u001b[0m\u001b[0;34m.\u001b[0m\u001b[0mgroupby\u001b[0m\u001b[0;34m(\u001b[0m\u001b[0;34m\"is\"\u001b[0m\u001b[0;34m)\u001b[0m\u001b[0;34m\u001b[0m\u001b[0m\n",
      "\u001b[0;32m~/anaconda3/envs/p3/lib/python3.6/site-packages/pandas/core/generic.py\u001b[0m in \u001b[0;36mgroupby\u001b[0;34m(self, by, axis, level, as_index, sort, group_keys, squeeze, **kwargs)\u001b[0m\n\u001b[1;32m   4414\u001b[0m         return groupby(self, by=by, axis=axis, level=level, as_index=as_index,\n\u001b[1;32m   4415\u001b[0m                        \u001b[0msort\u001b[0m\u001b[0;34m=\u001b[0m\u001b[0msort\u001b[0m\u001b[0;34m,\u001b[0m \u001b[0mgroup_keys\u001b[0m\u001b[0;34m=\u001b[0m\u001b[0mgroup_keys\u001b[0m\u001b[0;34m,\u001b[0m \u001b[0msqueeze\u001b[0m\u001b[0;34m=\u001b[0m\u001b[0msqueeze\u001b[0m\u001b[0;34m,\u001b[0m\u001b[0;34m\u001b[0m\u001b[0m\n\u001b[0;32m-> 4416\u001b[0;31m                        **kwargs)\n\u001b[0m\u001b[1;32m   4417\u001b[0m \u001b[0;34m\u001b[0m\u001b[0m\n\u001b[1;32m   4418\u001b[0m     def asfreq(self, freq, method=None, how=None, normalize=False,\n",
      "\u001b[0;32m~/anaconda3/envs/p3/lib/python3.6/site-packages/pandas/core/groupby.py\u001b[0m in \u001b[0;36mgroupby\u001b[0;34m(obj, by, **kwds)\u001b[0m\n\u001b[1;32m   1697\u001b[0m         \u001b[0;32mraise\u001b[0m \u001b[0mTypeError\u001b[0m\u001b[0;34m(\u001b[0m\u001b[0;34m'invalid type: %s'\u001b[0m \u001b[0;34m%\u001b[0m \u001b[0mtype\u001b[0m\u001b[0;34m(\u001b[0m\u001b[0mobj\u001b[0m\u001b[0;34m)\u001b[0m\u001b[0;34m)\u001b[0m\u001b[0;34m\u001b[0m\u001b[0m\n\u001b[1;32m   1698\u001b[0m \u001b[0;34m\u001b[0m\u001b[0m\n\u001b[0;32m-> 1699\u001b[0;31m     \u001b[0;32mreturn\u001b[0m \u001b[0mklass\u001b[0m\u001b[0;34m(\u001b[0m\u001b[0mobj\u001b[0m\u001b[0;34m,\u001b[0m \u001b[0mby\u001b[0m\u001b[0;34m,\u001b[0m \u001b[0;34m**\u001b[0m\u001b[0mkwds\u001b[0m\u001b[0;34m)\u001b[0m\u001b[0;34m\u001b[0m\u001b[0m\n\u001b[0m\u001b[1;32m   1700\u001b[0m \u001b[0;34m\u001b[0m\u001b[0m\n\u001b[1;32m   1701\u001b[0m \u001b[0;34m\u001b[0m\u001b[0m\n",
      "\u001b[0;32m~/anaconda3/envs/p3/lib/python3.6/site-packages/pandas/core/groupby.py\u001b[0m in \u001b[0;36m__init__\u001b[0;34m(self, obj, keys, axis, level, grouper, exclusions, selection, as_index, sort, group_keys, squeeze, **kwargs)\u001b[0m\n\u001b[1;32m    390\u001b[0m                                                     \u001b[0mlevel\u001b[0m\u001b[0;34m=\u001b[0m\u001b[0mlevel\u001b[0m\u001b[0;34m,\u001b[0m\u001b[0;34m\u001b[0m\u001b[0m\n\u001b[1;32m    391\u001b[0m                                                     \u001b[0msort\u001b[0m\u001b[0;34m=\u001b[0m\u001b[0msort\u001b[0m\u001b[0;34m,\u001b[0m\u001b[0;34m\u001b[0m\u001b[0m\n\u001b[0;32m--> 392\u001b[0;31m                                                     mutated=self.mutated)\n\u001b[0m\u001b[1;32m    393\u001b[0m \u001b[0;34m\u001b[0m\u001b[0m\n\u001b[1;32m    394\u001b[0m         \u001b[0mself\u001b[0m\u001b[0;34m.\u001b[0m\u001b[0mobj\u001b[0m \u001b[0;34m=\u001b[0m \u001b[0mobj\u001b[0m\u001b[0;34m\u001b[0m\u001b[0m\n",
      "\u001b[0;32m~/anaconda3/envs/p3/lib/python3.6/site-packages/pandas/core/groupby.py\u001b[0m in \u001b[0;36m_get_grouper\u001b[0;34m(obj, key, axis, level, sort, mutated)\u001b[0m\n\u001b[1;32m   2688\u001b[0m                 \u001b[0min_axis\u001b[0m\u001b[0;34m,\u001b[0m \u001b[0mname\u001b[0m\u001b[0;34m,\u001b[0m \u001b[0mlevel\u001b[0m\u001b[0;34m,\u001b[0m \u001b[0mgpr\u001b[0m \u001b[0;34m=\u001b[0m \u001b[0;32mFalse\u001b[0m\u001b[0;34m,\u001b[0m \u001b[0;32mNone\u001b[0m\u001b[0;34m,\u001b[0m \u001b[0mgpr\u001b[0m\u001b[0;34m,\u001b[0m \u001b[0;32mNone\u001b[0m\u001b[0;34m\u001b[0m\u001b[0m\n\u001b[1;32m   2689\u001b[0m             \u001b[0;32melse\u001b[0m\u001b[0;34m:\u001b[0m\u001b[0;34m\u001b[0m\u001b[0m\n\u001b[0;32m-> 2690\u001b[0;31m                 \u001b[0;32mraise\u001b[0m \u001b[0mKeyError\u001b[0m\u001b[0;34m(\u001b[0m\u001b[0mgpr\u001b[0m\u001b[0;34m)\u001b[0m\u001b[0;34m\u001b[0m\u001b[0m\n\u001b[0m\u001b[1;32m   2691\u001b[0m         \u001b[0;32melif\u001b[0m \u001b[0misinstance\u001b[0m\u001b[0;34m(\u001b[0m\u001b[0mgpr\u001b[0m\u001b[0;34m,\u001b[0m \u001b[0mGrouper\u001b[0m\u001b[0;34m)\u001b[0m \u001b[0;32mand\u001b[0m \u001b[0mgpr\u001b[0m\u001b[0;34m.\u001b[0m\u001b[0mkey\u001b[0m \u001b[0;32mis\u001b[0m \u001b[0;32mnot\u001b[0m \u001b[0;32mNone\u001b[0m\u001b[0;34m:\u001b[0m\u001b[0;34m\u001b[0m\u001b[0m\n\u001b[1;32m   2692\u001b[0m             \u001b[0;31m# Add key to exclusions\u001b[0m\u001b[0;34m\u001b[0m\u001b[0;34m\u001b[0m\u001b[0m\n",
      "\u001b[0;31mKeyError\u001b[0m: 'type'"
     ]
    }
   ],
   "source": [
    "kdd_attack_type_group = dataset.kdd_train.groupby(\"type\")\n",
    "kdd_is_attack_group = dataset.kdd_train.groupby(\"is\")"
   ]
  },
  {
   "cell_type": "code",
   "execution_count": null,
   "metadata": {
    "ExecuteTime": {
     "end_time": "2017-07-19T14:02:45.768427Z",
     "start_time": "2017-07-19T14:02:43.040Z"
    },
    "collapsed": true
   },
   "outputs": [],
   "source": [
    "kdd_attack_type_group.type.count()"
   ]
  },
  {
   "cell_type": "code",
   "execution_count": null,
   "metadata": {
    "ExecuteTime": {
     "end_time": "2017-07-19T14:02:45.769250Z",
     "start_time": "2017-07-19T14:02:43.044Z"
    },
    "collapsed": true
   },
   "outputs": [],
   "source": [
    "kdd_is_attack_group[\"is\"].count()"
   ]
  },
  {
   "cell_type": "code",
   "execution_count": null,
   "metadata": {
    "ExecuteTime": {
     "end_time": "2017-07-19T14:02:45.769848Z",
     "start_time": "2017-07-19T14:02:43.048Z"
    },
    "collapsed": true
   },
   "outputs": [],
   "source": [
    "kdd_attack_type_group"
   ]
  },
  {
   "cell_type": "code",
   "execution_count": null,
   "metadata": {
    "ExecuteTime": {
     "end_time": "2017-07-19T14:02:45.770466Z",
     "start_time": "2017-07-19T14:02:43.052Z"
    },
    "collapsed": true
   },
   "outputs": [],
   "source": [
    "df = dataset.kdd_train.set_index(\"is\")\n",
    "df.loc[\"Attack\"].label.unique()"
   ]
  },
  {
   "cell_type": "code",
   "execution_count": null,
   "metadata": {
    "ExecuteTime": {
     "end_time": "2017-07-19T14:02:45.771033Z",
     "start_time": "2017-07-19T14:02:43.056Z"
    },
    "collapsed": true
   },
   "outputs": [],
   "source": [
    "df.loc[\"Normal\"].label.unique()"
   ]
  },
  {
   "cell_type": "code",
   "execution_count": null,
   "metadata": {
    "ExecuteTime": {
     "end_time": "2017-07-19T14:02:45.771580Z",
     "start_time": "2017-07-19T14:02:43.060Z"
    },
    "collapsed": true
   },
   "outputs": [],
   "source": [
    "#kdd_is_attack_group.hist(figsize=[25,22])"
   ]
  },
  {
   "cell_type": "code",
   "execution_count": null,
   "metadata": {
    "ExecuteTime": {
     "end_time": "2017-07-19T14:02:45.772178Z",
     "start_time": "2017-07-19T14:02:43.064Z"
    },
    "collapsed": true,
    "scrolled": false
   },
   "outputs": [],
   "source": [
    "#kdd_attack_type_group.hist(figsize=[25,22])"
   ]
  },
  {
   "cell_type": "code",
   "execution_count": null,
   "metadata": {
    "ExecuteTime": {
     "end_time": "2017-07-19T14:02:45.772893Z",
     "start_time": "2017-07-19T14:02:43.069Z"
    },
    "collapsed": true
   },
   "outputs": [],
   "source": [
    "gb = dataset.kdd_diff_level_train.groupby(dataset.kdd_diff_level_train)\n",
    "(gb.count() / dataset.kdd_diff_level_train.count())*100"
   ]
  },
  {
   "cell_type": "code",
   "execution_count": null,
   "metadata": {
    "ExecuteTime": {
     "end_time": "2017-07-19T14:02:45.773445Z",
     "start_time": "2017-07-19T14:02:43.073Z"
    },
    "collapsed": true
   },
   "outputs": [],
   "source": [
    "gb = dataset.kdd_diff_level_test.groupby(dataset.kdd_diff_level_test)\n",
    "(gb.count() / dataset.kdd_diff_level_test.count())*100"
   ]
  },
  {
   "cell_type": "code",
   "execution_count": null,
   "metadata": {
    "collapsed": true
   },
   "outputs": [],
   "source": []
  },
  {
   "cell_type": "code",
   "execution_count": null,
   "metadata": {
    "ExecuteTime": {
     "end_time": "2017-06-19T17:09:48.841770Z",
     "start_time": "2017-06-19T17:09:47.933136Z"
    },
    "collapsed": true
   },
   "outputs": [],
   "source": []
  },
  {
   "cell_type": "code",
   "execution_count": null,
   "metadata": {
    "collapsed": true
   },
   "outputs": [],
   "source": []
  },
  {
   "cell_type": "code",
   "execution_count": null,
   "metadata": {
    "ExecuteTime": {
     "end_time": "2017-07-19T14:02:45.773995Z",
     "start_time": "2017-07-19T14:02:43.085Z"
    },
    "collapsed": true
   },
   "outputs": [],
   "source": [
    "preprocessing.kdd_train_2labels.columns.to_series().to_csv(\"dataset/columns_2labels.csv\")\n",
    "preprocessing.kdd_train_5labels.columns.to_series().to_csv(\"dataset/columns_5labels.csv\")"
   ]
  },
  {
   "cell_type": "code",
   "execution_count": null,
   "metadata": {
    "ExecuteTime": {
     "end_time": "2017-07-19T14:02:45.774559Z",
     "start_time": "2017-07-19T14:02:43.089Z"
    },
    "collapsed": true
   },
   "outputs": [],
   "source": [
    "preprocessing.kdd_train_2labels.columns"
   ]
  },
  {
   "cell_type": "code",
   "execution_count": null,
   "metadata": {
    "ExecuteTime": {
     "end_time": "2017-07-19T14:02:45.775302Z",
     "start_time": "2017-07-19T14:02:43.093Z"
    },
    "collapsed": true
   },
   "outputs": [],
   "source": [
    "preprocessing.kdd_train_2labels.shape"
   ]
  },
  {
   "cell_type": "code",
   "execution_count": null,
   "metadata": {
    "ExecuteTime": {
     "end_time": "2017-07-19T14:02:45.775945Z",
     "start_time": "2017-07-19T14:02:43.097Z"
    },
    "collapsed": true
   },
   "outputs": [],
   "source": [
    "preprocessing.kdd_train_5labels.shape"
   ]
  },
  {
   "cell_type": "code",
   "execution_count": null,
   "metadata": {
    "ExecuteTime": {
     "end_time": "2017-07-19T14:02:45.776485Z",
     "start_time": "2017-07-19T14:02:43.101Z"
    },
    "collapsed": true
   },
   "outputs": [],
   "source": [
    "preprocessing.kdd_test_2labels.shape"
   ]
  },
  {
   "cell_type": "code",
   "execution_count": null,
   "metadata": {
    "ExecuteTime": {
     "end_time": "2017-07-19T14:02:45.777070Z",
     "start_time": "2017-07-19T14:02:43.105Z"
    },
    "collapsed": true
   },
   "outputs": [],
   "source": [
    "preprocessing.kdd_test_5labels.shape"
   ]
  },
  {
   "cell_type": "code",
   "execution_count": null,
   "metadata": {
    "ExecuteTime": {
     "end_time": "2017-07-19T14:02:45.777629Z",
     "start_time": "2017-07-19T14:02:43.109Z"
    },
    "collapsed": true
   },
   "outputs": [],
   "source": [
    "preprocessing.kdd_train_2labels_y.shape"
   ]
  },
  {
   "cell_type": "code",
   "execution_count": null,
   "metadata": {
    "ExecuteTime": {
     "end_time": "2017-07-19T14:02:45.778270Z",
     "start_time": "2017-07-19T14:02:43.113Z"
    },
    "collapsed": true
   },
   "outputs": [],
   "source": [
    "preprocessing.kdd_test_2labels_y.shape"
   ]
  },
  {
   "cell_type": "code",
   "execution_count": null,
   "metadata": {
    "ExecuteTime": {
     "end_time": "2017-07-19T14:02:45.778831Z",
     "start_time": "2017-07-19T14:02:43.117Z"
    },
    "collapsed": true
   },
   "outputs": [],
   "source": [
    "preprocessing.kdd_train_5labels_y.shape"
   ]
  },
  {
   "cell_type": "code",
   "execution_count": null,
   "metadata": {
    "ExecuteTime": {
     "end_time": "2017-07-19T14:02:45.779460Z",
     "start_time": "2017-07-19T14:02:43.121Z"
    },
    "collapsed": true
   },
   "outputs": [],
   "source": [
    "preprocessing.kdd_test_5labels_y.shape"
   ]
  },
  {
   "cell_type": "code",
   "execution_count": 11,
   "metadata": {
    "ExecuteTime": {
     "end_time": "2017-07-23T18:38:51.843593Z",
     "start_time": "2017-07-23T18:38:51.837880Z"
    },
    "collapsed": true
   },
   "outputs": [],
   "source": [
    "import matplotlib\n",
    "from pandas.plotting import andrews_curves\n",
    "from pandas.plotting import parallel_coordinates\n",
    "from sklearn import preprocessing as ps\n",
    "from pandas.plotting import radviz\n",
    "import matplotlib.pyplot as plt\n",
    "matplotlib.style.use('ggplot')"
   ]
  },
  {
   "cell_type": "code",
   "execution_count": 17,
   "metadata": {
    "ExecuteTime": {
     "end_time": "2017-07-19T14:02:59.542384Z",
     "start_time": "2017-07-19T14:02:54.075684Z"
    },
    "collapsed": true
   },
   "outputs": [],
   "source": [
    "df_train = preprocessing.kdd_train_2labels\n",
    "df_train = pd.concat([df_train, dataset.kdd_label], axis = 1)"
   ]
  },
  {
   "cell_type": "code",
   "execution_count": 3,
   "metadata": {
    "ExecuteTime": {
     "end_time": "2017-07-23T18:37:11.655628Z",
     "start_time": "2017-07-23T18:37:11.503012Z"
    },
    "collapsed": true
   },
   "outputs": [],
   "source": [
    "from sklearn.manifold import TSNE\n",
    "model = TSNE(n_components=2, random_state=0)\n",
    "#np.set_printoptions(suppress=True)\n",
    "#df_n = df_train[df_train.label == 'Normal'].sample(6000)\n",
    "#df_a = df_train[df_train.label == 'Attack'].sample(6000)\n",
    "\n",
    "#sample = pd.concat([df_n, df_a], axis=0)\n",
    "#sample.to_pickle(\"dataset/tsne_sample.pkl\")\n",
    "sample = pd.read_pickle(\"dataset/tsne_sample.pkl\")\n",
    "\n"
   ]
  },
  {
   "cell_type": "code",
   "execution_count": 4,
   "metadata": {
    "ExecuteTime": {
     "end_time": "2017-07-23T18:37:12.974381Z",
     "start_time": "2017-07-23T18:37:12.968484Z"
    }
   },
   "outputs": [
    {
     "data": {
      "text/plain": [
       "(12000, 45)"
      ]
     },
     "execution_count": 4,
     "metadata": {},
     "output_type": "execute_result"
    }
   ],
   "source": [
    "sample.shape"
   ]
  },
  {
   "cell_type": "code",
   "execution_count": 5,
   "metadata": {
    "ExecuteTime": {
     "end_time": "2017-07-23T18:37:13.821045Z",
     "start_time": "2017-07-23T18:37:13.736213Z"
    }
   },
   "outputs": [
    {
     "data": {
      "text/plain": [
       "label\n",
       "Attack    6000\n",
       "Normal    6000\n",
       "Name: label, dtype: int64"
      ]
     },
     "execution_count": 5,
     "metadata": {},
     "output_type": "execute_result"
    }
   ],
   "source": [
    "sample.groupby(by='label').label.count()"
   ]
  },
  {
   "cell_type": "code",
   "execution_count": 6,
   "metadata": {
    "ExecuteTime": {
     "end_time": "2017-07-23T18:37:26.006869Z",
     "start_time": "2017-07-23T18:37:25.999032Z"
    },
    "collapsed": true
   },
   "outputs": [],
   "source": [
    "x_tsne = sample.iloc[:, :-1]\n",
    "y_tsne = sample.iloc[:, -1]\n",
    "\n",
    "\n",
    "from sklearn.decomposition import SparsePCA\n",
    "pca_analysis = SparsePCA(n_components=14)\n",
    "#x_tsne_pca = pca_analysis.fit_transform(x_tsne)\n",
    "#x_tsne_pca = x_tsne"
   ]
  },
  {
   "cell_type": "code",
   "execution_count": 7,
   "metadata": {
    "ExecuteTime": {
     "end_time": "2017-07-23T18:37:27.690469Z",
     "start_time": "2017-07-23T18:37:27.532819Z"
    },
    "collapsed": true
   },
   "outputs": [],
   "source": [
    "\n",
    "\n",
    "\n",
    "#pd.DataFrame(x_tsne_pca).to_pickle(\"dataset/tsne_pca_df.pkl\")\n",
    "\n",
    "x_tsne_pca = pd.read_pickle(\"dataset/tsne_pca_df.pkl\").values"
   ]
  },
  {
   "cell_type": "code",
   "execution_count": 8,
   "metadata": {
    "ExecuteTime": {
     "end_time": "2017-07-23T18:37:42.991353Z",
     "start_time": "2017-07-23T18:37:42.986829Z"
    },
    "collapsed": true
   },
   "outputs": [],
   "source": [
    "x_tsne_pca_df = pd.DataFrame(x_tsne_pca)\n",
    "\n",
    "x_tsne_pca_df['is'] = y_tsne.values"
   ]
  },
  {
   "cell_type": "code",
   "execution_count": 49,
   "metadata": {
    "ExecuteTime": {
     "end_time": "2017-07-19T15:02:20.641798Z",
     "start_time": "2017-07-19T15:00:39.854346Z"
    }
   },
   "outputs": [
    {
     "data": {
      "text/plain": [
       "<matplotlib.axes._subplots.AxesSubplot at 0x7f1060d88f60>"
      ]
     },
     "execution_count": 49,
     "metadata": {},
     "output_type": "execute_result"
    },
    {
     "data": {
      "image/png": "[encoded data removed]",
      "text/plain": [
       "<matplotlib.figure.Figure at 0x7f1060dbf710>"
      ]
     },
     "metadata": {},
     "output_type": "display_data"
    }
   ],
   "source": [
    "plt.figure(figsize=(7,3))\n",
    "\n",
    "andrews_curves(x_tsne_pca_df, \"is\")"
   ]
  },
  {
   "cell_type": "code",
   "execution_count": 50,
   "metadata": {
    "ExecuteTime": {
     "end_time": "2017-07-19T15:22:41.738731Z",
     "start_time": "2017-07-19T15:02:20.643359Z"
    },
    "collapsed": true
   },
   "outputs": [],
   "source": [
    "#df = model.fit_transform(x_tsne_pca) \n",
    "#df1 = model.fit_transform(df)\n",
    "#df2 = model.fit_transform(df1) \n",
    "#df3 = model.fit_transform(df2) "
   ]
  },
  {
   "cell_type": "code",
   "execution_count": 51,
   "metadata": {
    "ExecuteTime": {
     "end_time": "2017-07-19T15:22:41.750552Z",
     "start_time": "2017-07-19T15:22:41.740409Z"
    },
    "collapsed": true
   },
   "outputs": [],
   "source": [
    "#pd.DataFrame(df).to_pickle(\"dataset/tsne_df.pkl\")\n",
    "#pd.DataFrame(df1).to_pickle(\"dataset/tsne_df1.pkl\")\n",
    "#pd.DataFrame(df2).to_pickle(\"dataset/tsne_df2.pkl\")\n",
    "#pd.DataFrame(df3).to_pickle(\"dataset/tsne_df3.pkl\")"
   ]
  },
  {
   "cell_type": "code",
   "execution_count": 9,
   "metadata": {
    "ExecuteTime": {
     "end_time": "2017-07-23T18:37:47.058075Z",
     "start_time": "2017-07-23T18:37:46.969883Z"
    },
    "collapsed": true
   },
   "outputs": [],
   "source": [
    "\n",
    "df = pd.read_pickle(\"dataset/tsne_df.pkl\").values\n",
    "df1 = pd.read_pickle(\"dataset/tsne_df1.pkl\").values\n",
    "df2 = pd.read_pickle(\"dataset/tsne_df2.pkl\").values\n",
    "df3 = pd.read_pickle(\"dataset/tsne_df3.pkl\").values"
   ]
  },
  {
   "cell_type": "code",
   "execution_count": 53,
   "metadata": {
    "ExecuteTime": {
     "end_time": "2017-07-19T15:22:43.068173Z",
     "start_time": "2017-07-19T15:22:41.786608Z"
    }
   },
   "outputs": [
    {
     "data": {
      "text/plain": [
       "<matplotlib.legend.Legend at 0x7f1052416ef0>"
      ]
     },
     "execution_count": 53,
     "metadata": {},
     "output_type": "execute_result"
    },
    {
     "data": {
      "image/png": "[encoded data removed]",
      "text/plain": [
       "<matplotlib.figure.Figure at 0x7f10524af9b0>"
      ]
     },
     "metadata": {},
     "output_type": "display_data"
    }
   ],
   "source": [
    "\n",
    "#plt.figure(figsize=(15,8))\n",
    "\n",
    "f, ((ax1, ax2), (ax3, ax4)) = plt.subplots(2, 2, sharex='col', sharey='row', figsize=(10,5))\n",
    "\n",
    "ax1.scatter(x = df[y_tsne=='Normal',0], y = df[y_tsne=='Normal',1], label = 'Normal')\n",
    "ax1.scatter(x = df[y_tsne=='Attack',0], y = df[y_tsne=='Attack',1], label = 'Attack')\n",
    "ax1.title.set_text(\"After 1000 epochs\")\n",
    "\n",
    "ax2.scatter(x = df1[y_tsne=='Normal',0], y = df1[y_tsne=='Normal',1], label = 'Normal')\n",
    "ax2.scatter(x = df1[y_tsne=='Attack',0], y = df1[y_tsne=='Attack',1], label = 'Attack')\n",
    "ax2.title.set_text(\"After 2000 epochs\")\n",
    "\n",
    "ax3.scatter(x = df2[y_tsne=='Normal',0], y = df2[y_tsne=='Normal',1], label = 'Normal')\n",
    "ax3.scatter(x = df2[y_tsne=='Attack',0], y = df2[y_tsne=='Attack',1], label = 'Attack')\n",
    "ax3.title.set_text(\"After 3000 epochs\")\n",
    "\n",
    "ax4.scatter(x = df3[y_tsne=='Normal',0], y = df3[y_tsne=='Normal',1], label = 'Normal')\n",
    "ax4.scatter(x = df3[y_tsne=='Attack',0], y = df3[y_tsne=='Attack',1], label = 'Attack')\n",
    "ax4.title.set_text(\"After 4000 epochs\")\n",
    "\n",
    "plt.subplots_adjust(wspace=0.05, hspace=0.18)\n",
    "ax1.legend(loc=0)\n",
    "\n",
    "\n"
   ]
  },
  {
   "cell_type": "code",
   "execution_count": 14,
   "metadata": {
    "ExecuteTime": {
     "end_time": "2017-07-23T18:39:43.720927Z",
     "start_time": "2017-07-23T18:39:43.281539Z"
    }
   },
   "outputs": [
    {
     "data": {
      "text/plain": [
       "<matplotlib.text.Text at 0x7f25849b9ac8>"
      ]
     },
     "execution_count": 14,
     "metadata": {},
     "output_type": "execute_result"
    },
    {
     "data": {
      "image/png": "[encoded data removed]",
      "text/plain": [
       "<matplotlib.figure.Figure at 0x7f25847d2c50>"
      ]
     },
     "metadata": {},
     "output_type": "display_data"
    }
   ],
   "source": [
    "\n",
    "plt.figure(figsize=(15,8))\n",
    "\n",
    "\n",
    "plt.scatter(x = df3[y_tsne=='Normal',0], y = df3[y_tsne=='Normal',1], label = 'Normal')\n",
    "plt.scatter(x = df3[y_tsne=='Attack',0], y = df3[y_tsne=='Attack',1], label = 'Attack')\n",
    "plt.title(\"After 4000 epochs\")\n"
   ]
  },
  {
   "cell_type": "code",
   "execution_count": 54,
   "metadata": {
    "ExecuteTime": {
     "end_time": "2017-07-19T15:22:43.177775Z",
     "start_time": "2017-07-19T15:22:43.069957Z"
    },
    "collapsed": true
   },
   "outputs": [],
   "source": [
    "preprocessing.kdd_train_2labels.to_pickle(\"dataset/kdd_train_2labels.pkl\")\n",
    "dataset.kdd_label.to_pickle(\"dataset/kdd_label.pkl\")\n"
   ]
  },
  {
   "cell_type": "code",
   "execution_count": 55,
   "metadata": {
    "ExecuteTime": {
     "end_time": "2017-07-19T15:22:43.236494Z",
     "start_time": "2017-07-19T15:22:43.179327Z"
    },
    "collapsed": true
   },
   "outputs": [],
   "source": [
    "import statsmodels.api as sm\n",
    "\n",
    "x_ols = sample.iloc[:, :-1]\n",
    "y_ols = sample.iloc[:, -1].map(lambda x: {\"Normal\":0, \"Attack\":1}[x])\n",
    "\n",
    "results = sm.OLS(y_ols, x_ols.values).fit()"
   ]
  },
  {
   "cell_type": "code",
   "execution_count": 56,
   "metadata": {
    "ExecuteTime": {
     "end_time": "2017-07-19T15:22:43.242267Z",
     "start_time": "2017-07-19T15:22:43.238167Z"
    }
   },
   "outputs": [
    {
     "data": {
      "text/plain": [
       "<statsmodels.regression.linear_model.RegressionResultsWrapper at 0x7f10525114a8>"
      ]
     },
     "execution_count": 56,
     "metadata": {},
     "output_type": "execute_result"
    }
   ],
   "source": [
    "results"
   ]
  },
  {
   "cell_type": "code",
   "execution_count": 57,
   "metadata": {
    "ExecuteTime": {
     "end_time": "2017-07-19T15:22:43.253447Z",
     "start_time": "2017-07-19T15:22:43.243863Z"
    }
   },
   "outputs": [
    {
     "data": {
      "text/plain": [
       "x4     1.155401e-100\n",
       "x23     2.593355e-58\n",
       "x42     2.474378e-54\n",
       "x22     4.205272e-48\n",
       "x6      7.789379e-42\n",
       "x28     2.222386e-36\n",
       "x24     1.142042e-28\n",
       "           ...      \n",
       "x30     2.644635e-02\n",
       "x31     7.524745e-02\n",
       "x26     1.001235e-01\n",
       "x15     2.118461e-01\n",
       "x21     3.113222e-01\n",
       "x2      3.719198e-01\n",
       "x12     9.594474e-01\n",
       "Length: 44, dtype: float64"
      ]
     },
     "execution_count": 57,
     "metadata": {},
     "output_type": "execute_result"
    }
   ],
   "source": [
    "results.pvalues.sort_values()"
   ]
  },
  {
   "cell_type": "code",
   "execution_count": 58,
   "metadata": {
    "ExecuteTime": {
     "end_time": "2017-07-19T15:22:43.446886Z",
     "start_time": "2017-07-19T15:22:43.254857Z"
    }
   },
   "outputs": [
    {
     "data": {
      "image/png": "[encoded data removed]",
      "text/plain": [
       "<matplotlib.figure.Figure at 0x7f1052511b38>"
      ]
     },
     "metadata": {},
     "output_type": "display_data"
    }
   ],
   "source": [
    "import warnings\n",
    "warnings.filterwarnings('ignore')\n",
    "results.pvalues.sort_values().plot();"
   ]
  },
  {
   "cell_type": "code",
   "execution_count": 59,
   "metadata": {
    "ExecuteTime": {
     "end_time": "2017-07-19T15:22:43.661313Z",
     "start_time": "2017-07-19T15:22:43.448373Z"
    }
   },
   "outputs": [
    {
     "data": {
      "text/plain": [
       "<matplotlib.axes._subplots.AxesSubplot at 0x7f10520f8e48>"
      ]
     },
     "execution_count": 59,
     "metadata": {},
     "output_type": "execute_result"
    },
    {
     "data": {
      "image/png": "[encoded data removed]",
      "text/plain": [
       "<matplotlib.figure.Figure at 0x7f10522b1518>"
      ]
     },
     "metadata": {},
     "output_type": "display_data"
    }
   ],
   "source": [
    "temp = results.pvalues\n",
    "temp = temp.reset_index()\n",
    "#temp.set_index( [i for i in range(len(results.pvalues.index))])\n",
    "#temp[0].plot()\n",
    "t = temp[0].reset_index()\n",
    "t = t.sort_values(by=0)\n",
    "t.columns = ['feature', 'p-value']\n",
    "t.feature = t.feature.astype('category')\n",
    "t.set_index('feature').plot()"
   ]
  },
  {
   "cell_type": "code",
   "execution_count": 60,
   "metadata": {
    "ExecuteTime": {
     "end_time": "2017-07-19T15:22:43.871516Z",
     "start_time": "2017-07-19T15:22:43.662722Z"
    }
   },
   "outputs": [
    {
     "data": {
      "text/plain": [
       "<matplotlib.axes._subplots.AxesSubplot at 0x7f1052264ac8>"
      ]
     },
     "execution_count": 60,
     "metadata": {},
     "output_type": "execute_result"
    },
    {
     "data": {
      "image/png": "[encoded data removed]",
      "text/plain": [
       "<matplotlib.figure.Figure at 0x7f10523d5048>"
      ]
     },
     "metadata": {},
     "output_type": "display_data"
    }
   ],
   "source": [
    "temp = results.pvalues\n",
    "temp = temp.reset_index()\n",
    "#temp.set_index( [i for i in range(len(results.pvalues.index))])\n",
    "#temp[0].plot()\n",
    "t = temp[0].reset_index()\n",
    "t.columns = ['feature', 'p-value']\n",
    "t.feature = t.feature.astype('category')\n",
    "t.set_index('feature').plot()"
   ]
  },
  {
   "cell_type": "code",
   "execution_count": 61,
   "metadata": {
    "ExecuteTime": {
     "end_time": "2017-07-19T15:22:44.074733Z",
     "start_time": "2017-07-19T15:22:43.872945Z"
    }
   },
   "outputs": [
    {
     "data": {
      "text/plain": [
       "<matplotlib.axes._subplots.AxesSubplot at 0x7f10523c8a58>"
      ]
     },
     "execution_count": 61,
     "metadata": {},
     "output_type": "execute_result"
    },
    {
     "data": {
      "image/png": "[encoded data removed]",
      "text/plain": [
       "<matplotlib.figure.Figure at 0x7f1052482128>"
      ]
     },
     "metadata": {},
     "output_type": "display_data"
    }
   ],
   "source": [
    "results.pvalues.sort_values().hist()"
   ]
  },
  {
   "cell_type": "code",
   "execution_count": 62,
   "metadata": {
    "ExecuteTime": {
     "end_time": "2017-07-19T15:22:44.085136Z",
     "start_time": "2017-07-19T15:22:44.076230Z"
    }
   },
   "outputs": [
    {
     "name": "stdout",
     "output_type": "stream",
     "text": [
      "Variables having P value lower than 1e-5\n"
     ]
    },
    {
     "data": {
      "text/plain": [
       "x4       1.155401e-100\n",
       "x23       2.593355e-58\n",
       "x42       2.474378e-54\n",
       "x22       4.205272e-48\n",
       "x6        7.789379e-42\n",
       "x28       2.222386e-36\n",
       "x24       1.142042e-28\n",
       "             ...      \n",
       "x27       3.388059e-07\n",
       "x38       8.896467e-07\n",
       "x11       1.828290e-06\n",
       "x17       2.652094e-06\n",
       "x19       5.822392e-06\n",
       "const     6.312030e-06\n",
       "x33       9.184141e-06\n",
       "Length: 27, dtype: float64"
      ]
     },
     "execution_count": 62,
     "metadata": {},
     "output_type": "execute_result"
    }
   ],
   "source": [
    "\n",
    "print(\"Variables having P value lower than 1e-5\")\n",
    "results.pvalues[results.pvalues < 1e-5].sort_values()"
   ]
  },
  {
   "cell_type": "code",
   "execution_count": null,
   "metadata": {
    "collapsed": true
   },
   "outputs": [],
   "source": []
  },
  {
   "cell_type": "code",
   "execution_count": null,
   "metadata": {
    "collapsed": true
   },
   "outputs": [],
   "source": []
  }
 ],
 "metadata": {
  "_draft": {
   "nbviewer_url": "https://gist.github.com/a442376f3fb1d15375cdf44746cfb2fb"
  },
  "anaconda-cloud": {},
  "gist": {
   "data": {
    "description": "With Difficulty level",
    "public": false
   },
   "id": "a442376f3fb1d15375cdf44746cfb2fb"
  },
  "kernelspec": {
   "display_name": "Python [conda env:p3]",
   "language": "python",
   "name": "conda-env-p3-py"
  },
  "language_info": {
   "codemirror_mode": {
    "name": "ipython",
    "version": 3
   },
   "file_extension": ".py",
   "mimetype": "text/x-python",
   "name": "python",
   "nbconvert_exporter": "python",
   "pygments_lexer": "ipython3",
   "version": "3.6.1"
  },
  "varInspector": {
   "cols": {
    "lenName": 16,
    "lenType": 16,
    "lenVar": 40
   },
   "kernels_config": {
    "python": {
     "delete_cmd_postfix": "",
     "delete_cmd_prefix": "del ",
     "library": "var_list.py",
     "varRefreshCmd": "print(var_dic_list())"
    },
    "r": {
     "delete_cmd_postfix": ") ",
     "delete_cmd_prefix": "rm(",
     "library": "var_list.r",
     "varRefreshCmd": "cat(var_dic_list()) "
    }
   },
   "types_to_exclude": [
    "module",
    "function",
    "builtin_function_or_method",
    "instance",
    "_Feature"
   ],
   "window_display": false
  }
 },
 "nbformat": 4,
 "nbformat_minor": 2
}
